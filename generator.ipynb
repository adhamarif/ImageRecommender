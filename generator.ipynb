{
 "cells": [
  {
   "cell_type": "code",
   "execution_count": 1,
   "id": "5e23ce5b",
   "metadata": {
    "scrolled": false
   },
   "outputs": [
    {
     "name": "stderr",
     "output_type": "stream",
     "text": [
      "extracting information from the images + renaming by unique ID's: 34it [00:00, 320.11it/s]"
     ]
    },
    {
     "name": "stdout",
     "output_type": "stream",
     "text": [
      "/Users/tillteb/Desktop/Studium/4.Semester_DAISY/Big_data/Projekt/TEST_START/images/weather_image_recognition\n",
      "/Users/tillteb/Desktop/Studium/4.Semester_DAISY/Big_data/Projekt/TEST_START/images/weather_image_recognition/lightning\n"
     ]
    },
    {
     "name": "stderr",
     "output_type": "stream",
     "text": [
      "extracting information from the images + renaming by unique ID's: 405it [00:00, 406.42it/s]"
     ]
    },
    {
     "name": "stdout",
     "output_type": "stream",
     "text": [
      "/Users/tillteb/Desktop/Studium/4.Semester_DAISY/Big_data/Projekt/TEST_START/images/weather_image_recognition/sandstorm\n"
     ]
    },
    {
     "name": "stderr",
     "output_type": "stream",
     "text": [
      "extracting information from the images + renaming by unique ID's: 1166it [00:02, 523.70it/s]"
     ]
    },
    {
     "name": "stdout",
     "output_type": "stream",
     "text": [
      "/Users/tillteb/Desktop/Studium/4.Semester_DAISY/Big_data/Projekt/TEST_START/images/weather_image_recognition/glaze\n"
     ]
    },
    {
     "name": "stderr",
     "output_type": "stream",
     "text": [
      "extracting information from the images + renaming by unique ID's: 1786it [00:03, 577.61it/s]"
     ]
    },
    {
     "name": "stdout",
     "output_type": "stream",
     "text": [
      "/Users/tillteb/Desktop/Studium/4.Semester_DAISY/Big_data/Projekt/TEST_START/images/weather_image_recognition/rain\n"
     ]
    },
    {
     "name": "stderr",
     "output_type": "stream",
     "text": [
      "extracting information from the images + renaming by unique ID's: 2269it [00:04, 418.64it/s]"
     ]
    },
    {
     "name": "stdout",
     "output_type": "stream",
     "text": [
      "/Users/tillteb/Desktop/Studium/4.Semester_DAISY/Big_data/Projekt/TEST_START/images/weather_image_recognition/rime\n"
     ]
    },
    {
     "name": "stderr",
     "output_type": "stream",
     "text": [
      "extracting information from the images + renaming by unique ID's: 3420it [00:08, 278.96it/s]"
     ]
    },
    {
     "name": "stdout",
     "output_type": "stream",
     "text": [
      "/Users/tillteb/Desktop/Studium/4.Semester_DAISY/Big_data/Projekt/TEST_START/images/weather_image_recognition/frost\n"
     ]
    },
    {
     "name": "stderr",
     "output_type": "stream",
     "text": [
      "extracting information from the images + renaming by unique ID's: 3952it [00:11, 278.67it/s]"
     ]
    },
    {
     "name": "stdout",
     "output_type": "stream",
     "text": [
      "/Users/tillteb/Desktop/Studium/4.Semester_DAISY/Big_data/Projekt/TEST_START/images/weather_image_recognition/fogsmog\n"
     ]
    },
    {
     "name": "stderr",
     "output_type": "stream",
     "text": [
      "extracting information from the images + renaming by unique ID's: 4201it [00:12, 276.84it/s]"
     ]
    },
    {
     "name": "stdout",
     "output_type": "stream",
     "text": [
      "Error while loading image: 4514.jpg\n"
     ]
    },
    {
     "name": "stderr",
     "output_type": "stream",
     "text": [
      "extracting information from the images + renaming by unique ID's: 4770it [00:14, 367.65it/s]"
     ]
    },
    {
     "name": "stdout",
     "output_type": "stream",
     "text": [
      "/Users/tillteb/Desktop/Studium/4.Semester_DAISY/Big_data/Projekt/TEST_START/images/weather_image_recognition/hail\n"
     ]
    },
    {
     "name": "stderr",
     "output_type": "stream",
     "text": [
      "extracting information from the images + renaming by unique ID's: 5083it [00:15, 368.85it/s]libpng warning: iCCP: known incorrect sRGB profile\n",
      "extracting information from the images + renaming by unique ID's: 5170it [00:15, 392.79it/s]libpng warning: iCCP: known incorrect sRGB profile\n",
      "extracting information from the images + renaming by unique ID's: 5307it [00:15, 433.53it/s]"
     ]
    },
    {
     "name": "stdout",
     "output_type": "stream",
     "text": [
      "/Users/tillteb/Desktop/Studium/4.Semester_DAISY/Big_data/Projekt/TEST_START/images/weather_image_recognition/dew\n"
     ]
    },
    {
     "name": "stderr",
     "output_type": "stream",
     "text": [
      "extracting information from the images + renaming by unique ID's: 6040it [00:18, 247.95it/s]"
     ]
    },
    {
     "name": "stdout",
     "output_type": "stream",
     "text": [
      "/Users/tillteb/Desktop/Studium/4.Semester_DAISY/Big_data/Projekt/TEST_START/images/weather_image_recognition/rainbow\n"
     ]
    },
    {
     "name": "stderr",
     "output_type": "stream",
     "text": [
      "extracting information from the images + renaming by unique ID's: 6126it [00:18, 343.25it/s]libpng warning: iCCP: known incorrect sRGB profile\n",
      "extracting information from the images + renaming by unique ID's: 6281it [00:19, 444.91it/s]"
     ]
    },
    {
     "name": "stdout",
     "output_type": "stream",
     "text": [
      "/Users/tillteb/Desktop/Studium/4.Semester_DAISY/Big_data/Projekt/TEST_START/images/weather_image_recognition/snow\n",
      "Error while loading image: 1187.jpg\n"
     ]
    },
    {
     "name": "stderr",
     "output_type": "stream",
     "text": [
      "extracting information from the images + renaming by unique ID's: 6860it [00:20, 330.37it/s]\n"
     ]
    }
   ],
   "source": [
    "import re\n",
    "import csv\n",
    "import pandas as pd\n",
    "import os\n",
    "import cv2\n",
    "import numpy as np\n",
    "import matplotlib.pyplot as plt\n",
    "from tqdm.notebook import tqdm\n",
    "from tqdm import tqdm\n",
    "import pickle\n",
    "\n",
    "# function for getting the color histogramm for one image\n",
    "def create_rgb_array(img):\n",
    "    hist_colours = cv2.calcHist([img], [0, 1, 2], None, [5,5,5], [0, 256, 0, 256, 0, 256])\n",
    "    return hist_colours\n",
    "\n",
    "\n",
    "\n",
    "\n",
    "\n",
    "# ENTER YOU PATH TO THE 'weather_image_recognition' folder \n",
    "\n",
    "\n",
    "\n",
    "filepath = # \n",
    "\n",
    "\n",
    "\n",
    "\n",
    "\n",
    "\n",
    "\n",
    "\n",
    "\n",
    "# Counter for unique image names\n",
    "image_counter = 0\n",
    "\n",
    "# creating the generator\n",
    "def reader(filepath):\n",
    "    current_path = filepath \n",
    "    print(current_path)\n",
    "    \n",
    "    global image_counter  \n",
    "    \n",
    "    for foldername in os.listdir(current_path):\n",
    "        folderpath = os.path.join(filepath, foldername)\n",
    "        current_path = folderpath\n",
    "        \n",
    "        if os.path.isdir(folderpath) and not foldername.startswith('.'):\n",
    "            os.chdir(folderpath)\n",
    "            print(folderpath)\n",
    "            \n",
    "            for file in os.listdir(folderpath):\n",
    "                if file.endswith(\".jpg\") or file.endswith(\".png\"): \n",
    "                    with open(os.path.join(folderpath, file), \"rb\") as f:\n",
    "                        image = f.read()\n",
    "                        img = cv2.imread(file)\n",
    "                    \n",
    "                    # check if image can be loaded correctly\n",
    "                    if img is not None:\n",
    "    \n",
    "                        # create new name\n",
    "                        new_file_name = f\"{image_counter}_\"\n",
    "                        \n",
    "                        os.rename(file, new_file_name)\n",
    "                        \n",
    "                        image_counter += 1\n",
    "                        \n",
    "                        # return tuple, so later we need to use\n",
    "                        yield (img, os.path.join(folderpath, new_file_name))\n",
    "                        \n",
    "                    else:\n",
    "                        # check path or image format\n",
    "                        print(f\"Error while loading image: {file}\")\n",
    "            \n",
    "            os.chdir('..')\n",
    "\n",
    "# change to `filepath` for creating the csv there\n",
    "os.chdir(filepath)\n",
    "\n",
    "# open and write csv\n",
    "csv_file = open(\"color_histo_values.csv\", \"w\", newline=\"\")\n",
    "csv_writer = csv.writer(csv_file)\n",
    "\n",
    "header = [\"image_name\", \"Red_chanel\", \"Green_chanel\", \"Blue_chanel\", \"Frequency\"]\n",
    "csv_writer.writerow(header)\n",
    "\n",
    "gen = reader(filepath)\n",
    "\n",
    "\n",
    "\n",
    "\n",
    "\n",
    "\n",
    "\n",
    "\n",
    "# LOOP OVER ALL IMAGES\n",
    "\n",
    "for image, file_path in tqdm(gen, desc=\"extracting information from the images + renaming by unique ID's\"):\n",
    "    file_name = os.path.basename(file_path) # Dateinamen extrahieren\n",
    "    rgb_array = create_rgb_array(image)\n",
    "    \n",
    "    # ectract and format the color values\n",
    "    red_channel = [f\"{value:.10f}\" for value in rgb_array[:, :, 0].flatten()]\n",
    "    green_channel = [f\"{value:.10f}\" for value in rgb_array[:, :, 1].flatten()]\n",
    "    blue_channel = [f\"{value:.10f}\" for value in rgb_array[:, :, 2].flatten()]\n",
    "    frequency = [f\"{value:.10f}\" for value in rgb_array.flatten()]\n",
    "   \n",
    "    # save and write csv\n",
    "    data = [file_name, red_channel, green_channel, blue_channel, frequency]\n",
    "    csv_writer.writerow(data)\n",
    "\n",
    "csv_file.close()\n",
    "\n"
   ]
  },
  {
   "cell_type": "markdown",
   "id": "50ab4821",
   "metadata": {},
   "source": [
    "### check csv"
   ]
  },
  {
   "cell_type": "code",
   "execution_count": 2,
   "id": "da7b955d",
   "metadata": {},
   "outputs": [],
   "source": [
    "data = pd.read_csv('/Users/tillteb/Desktop/Studium/4.Semester_DAISY/Big_data/Projekt/TEST_START/images/weather_image_recognition/color_histo_values.csv')\n",
    "data.head()"
   ]
  },
  {
   "cell_type": "code",
   "execution_count": 3,
   "id": "03b5a901",
   "metadata": {},
   "outputs": [
    {
     "name": "stdout",
     "output_type": "stream",
     "text": [
      "<class 'pandas.core.frame.DataFrame'>\n",
      "RangeIndex: 6860 entries, 0 to 6859\n",
      "Data columns (total 5 columns):\n",
      " #   Column        Non-Null Count  Dtype \n",
      "---  ------        --------------  ----- \n",
      " 0   image_name    6860 non-null   object\n",
      " 1   Red_chanel    6860 non-null   object\n",
      " 2   Green_chanel  6860 non-null   object\n",
      " 3   Blue_chanel   6860 non-null   object\n",
      " 4   Frequency     6860 non-null   object\n",
      "dtypes: object(5)\n",
      "memory usage: 268.1+ KB\n"
     ]
    }
   ],
   "source": [
    "data.info()"
   ]
  },
  {
   "cell_type": "code",
   "execution_count": 4,
   "id": "c9257a03",
   "metadata": {},
   "outputs": [
    {
     "data": {
      "text/plain": [
       "image_name                                                     1_\n",
       "Red_chanel      ['21443.0000000000', '1.0000000000', '0.000000...\n",
       "Green_chanel    ['3.0000000000', '1.0000000000', '0.0000000000...\n",
       "Blue_chanel     ['0.0000000000', '0.0000000000', '0.0000000000...\n",
       "Frequency       ['21443.0000000000', '3.0000000000', '0.000000...\n",
       "Name: 1, dtype: object"
      ]
     },
     "execution_count": 4,
     "metadata": {},
     "output_type": "execute_result"
    }
   ],
   "source": [
    "data.loc[1]"
   ]
  },
  {
   "cell_type": "code",
   "execution_count": 5,
   "id": "651dcf2c",
   "metadata": {},
   "outputs": [
    {
     "data": {
      "text/plain": [
       "\"['21443.0000000000', '3.0000000000', '0.0000000000', '0.0000000000', '0.0000000000', '1.0000000000', '1.0000000000', '0.0000000000', '0.0000000000', '0.0000000000', '0.0000000000', '0.0000000000', '0.0000000000', '0.0000000000', '0.0000000000', '0.0000000000', '0.0000000000', '0.0000000000', '0.0000000000', '0.0000000000', '0.0000000000', '0.0000000000', '0.0000000000', '0.0000000000', '0.0000000000', '26861.0000000000', '1315.0000000000', '1.0000000000', '0.0000000000', '0.0000000000', '3.0000000000', '880.0000000000', '3.0000000000', '0.0000000000', '0.0000000000', '0.0000000000', '1.0000000000', '2.0000000000', '0.0000000000', '0.0000000000', '0.0000000000', '0.0000000000', '0.0000000000', '0.0000000000', '0.0000000000', '0.0000000000', '0.0000000000', '0.0000000000', '0.0000000000', '0.0000000000', '1986.0000000000', '13903.0000000000', '1806.0000000000', '0.0000000000', '0.0000000000', '0.0000000000', '646.0000000000', '1940.0000000000', '1.0000000000', '0.0000000000', '0.0000000000', '1.0000000000', '345.0000000000', '1.0000000000', '0.0000000000', '0.0000000000', '0.0000000000', '1.0000000000', '3.0000000000', '0.0000000000', '0.0000000000', '0.0000000000', '0.0000000000', '0.0000000000', '0.0000000000', '19.0000000000', '316.0000000000', '1138.0000000000', '8.0000000000', '0.0000000000', '0.0000000000', '416.0000000000', '10342.0000000000', '6512.0000000000', '0.0000000000', '0.0000000000', '0.0000000000', '1055.0000000000', '4182.0000000000', '15.0000000000', '0.0000000000', '0.0000000000', '1.0000000000', '603.0000000000', '32.0000000000', '0.0000000000', '0.0000000000', '0.0000000000', '2.0000000000', '2.0000000000', '0.0000000000', '2.0000000000', '3.0000000000', '0.0000000000', '0.0000000000', '0.0000000000', '3.0000000000', '99.0000000000', '874.0000000000', '9.0000000000', '0.0000000000', '0.0000000000', '29.0000000000', '6390.0000000000', '4776.0000000000', '0.0000000000', '0.0000000000', '0.0000000000', '328.0000000000', '5799.0000000000', '0.0000000000', '0.0000000000', '0.0000000000', '1.0000000000', '5897.0000000000']\""
      ]
     },
     "execution_count": 5,
     "metadata": {},
     "output_type": "execute_result"
    }
   ],
   "source": [
    "data['Frequency'][1]"
   ]
  },
  {
   "cell_type": "code",
   "execution_count": 6,
   "id": "2233ba17",
   "metadata": {},
   "outputs": [
    {
     "data": {
      "text/plain": [
       "6860"
      ]
     },
     "execution_count": 6,
     "metadata": {},
     "output_type": "execute_result"
    }
   ],
   "source": [
    "len(data['image_name'].unique())"
   ]
  },
  {
   "cell_type": "code",
   "execution_count": 7,
   "id": "25a43791",
   "metadata": {},
   "outputs": [
    {
     "data": {
      "text/plain": [
       "'1_'"
      ]
     },
     "execution_count": 7,
     "metadata": {},
     "output_type": "execute_result"
    }
   ],
   "source": [
    "data['image_name'][1]"
   ]
  },
  {
   "cell_type": "code",
   "execution_count": 8,
   "id": "6fd56795",
   "metadata": {},
   "outputs": [
    {
     "data": {
      "text/plain": [
       "'6859_'"
      ]
     },
     "execution_count": 8,
     "metadata": {},
     "output_type": "execute_result"
    }
   ],
   "source": [
    "data['image_name'].iloc[-1]"
   ]
  },
  {
   "cell_type": "code",
   "execution_count": null,
   "id": "2dda8515",
   "metadata": {},
   "outputs": [],
   "source": []
  }
 ],
 "metadata": {
  "kernelspec": {
   "display_name": "Python 3 (ipykernel)",
   "language": "python",
   "name": "python3"
  },
  "language_info": {
   "codemirror_mode": {
    "name": "ipython",
    "version": 3
   },
   "file_extension": ".py",
   "mimetype": "text/x-python",
   "name": "python",
   "nbconvert_exporter": "python",
   "pygments_lexer": "ipython3",
   "version": "3.8.13"
  }
 },
 "nbformat": 4,
 "nbformat_minor": 5
}
