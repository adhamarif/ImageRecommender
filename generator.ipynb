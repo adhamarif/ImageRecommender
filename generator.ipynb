{
 "cells": [
  {
   "cell_type": "code",
   "execution_count": 1,
   "id": "e3cfd14e",
   "metadata": {},
   "outputs": [],
   "source": [
    "import re\n",
    "import pandas as pd\n",
    "import os\n",
    "import glob\n",
    "import cv2\n",
    "import numpy as np\n",
    "import matplotlib.pyplot as plt\n",
    "from tqdm.notebook import tqdm_notebook"
   ]
  },
  {
   "cell_type": "code",
   "execution_count": 2,
   "id": "88d7ffc5",
   "metadata": {},
   "outputs": [
    {
     "data": {
      "text/plain": [
       "'C:\\\\Users\\\\Asus\\\\Desktop\\\\Project\\\\ImageRecommender'"
      ]
     },
     "execution_count": 2,
     "metadata": {},
     "output_type": "execute_result"
    }
   ],
   "source": [
    "#root = os.getcwd()\n",
    "root = r\"D:\\adham-till-code\"\n",
    "root"
   ]
  },
  {
   "cell_type": "code",
   "execution_count": 3,
   "id": "38aa7fe5",
   "metadata": {},
   "outputs": [],
   "source": [
    "def total_images(main_folder):\n",
    "    \"\"\"\n",
    "    This function is used for getting total number of jpg/png files in the main folder\n",
    "    \"\"\"\n",
    "    # Define the pattern to search for .jpg files recursively\n",
    "    file_pattern = main_folder + '/**/*.[jp][pn]g'\n",
    "    \n",
    "    # Use glob to find all matching files\n",
    "    my_list = glob.glob(file_pattern, recursive=True)\n",
    "    \n",
    "    # just return the number of total files\n",
    "    return len(my_list)"
   ]
  },
  {
   "cell_type": "code",
   "execution_count": 23,
   "id": "e8a11d08",
   "metadata": {},
   "outputs": [],
   "source": [
    "# creating the generator\n",
    "def reader(main_folder):\n",
    "    '''\n",
    "    This function generates through all the images file in the folder\n",
    "    '''  \n",
    "    # Counter for unique image names\n",
    "    image_counter = 0  # starting index\n",
    "    print(main_folder)\n",
    "\n",
    "    # Define the pattern to search for .jpg files recursively\n",
    "    file_pattern = main_folder + '/**/*.[jp][pn]g'  \n",
    "    \n",
    "    # Use glob to find all matching files\n",
    "    image_files = glob.glob(file_pattern, recursive=True)\n",
    "\n",
    "    # Process the list of found .jpg files\n",
    "    for path in image_files:\n",
    "        # steps for the file. open with cv2 --> if okay --> yield the id, image array and filepath\n",
    "        img = cv2.imread(path)\n",
    "\n",
    "        # check if image can be loaded correctly\n",
    "        if img is not None:   \n",
    "            #create new name\n",
    "            unique_id = f\"{image_counter:07}_\"\n",
    "\n",
    "            image_counter += 1\n",
    "\n",
    "            # yield tuple, so later we need to use\n",
    "            yield (unique_id, img, path)\n",
    "\n",
    "        else:\n",
    "            # check path or image format\n",
    "            print(f\"Error while loading image: {path}\")"
   ]
  },
  {
   "cell_type": "code",
   "execution_count": 24,
   "id": "0bec96bc",
   "metadata": {},
   "outputs": [],
   "source": [
    "def get_colour_hist(image):\n",
    "    \"\"\"\n",
    "    This function is used to calculate color histogram for image\n",
    "    \"\"\"\n",
    "    red_channel = image[:, :, 0]\n",
    "    green_channel = image[:, :, 1]\n",
    "    blue_channel = image[:, :, 2]\n",
    "\n",
    "    # Calculate colour histogram\n",
    "    red_hist = cv2.calcHist([red_channel], [0], None, [30], [0, 256])\n",
    "    green_hist = cv2.calcHist([green_channel], [0], None, [30], [0, 256])\n",
    "    blue_hist = cv2.calcHist([blue_channel], [0], None, [30], [0, 256])\n",
    "\n",
    "    # Normalize the colour histogram value\n",
    "    red_hist = cv2.normalize(red_hist, None, alpha=0, beta=1, norm_type=cv2.NORM_MINMAX)\n",
    "    green_hist = cv2.normalize(green_hist, None, alpha=0, beta=1, norm_type=cv2.NORM_MINMAX)\n",
    "    blue_hist = cv2.normalize(blue_hist, None, alpha=0, beta=1, norm_type=cv2.NORM_MINMAX)\n",
    "\n",
    "    return red_hist, green_hist, blue_hist"
   ]
  },
  {
   "cell_type": "code",
   "execution_count": 25,
   "id": "d8e2343b",
   "metadata": {
    "scrolled": true
   },
   "outputs": [],
   "source": [
    "def main(filepath, pc=\"windows\"):\n",
    "    # Counter for unique image names\n",
    "    gen = reader(filepath)\n",
    "\n",
    "    master_df = pd.DataFrame()\n",
    "    # LOOP OVER ALL IMAGES\n",
    "\n",
    "    for index, image, file_path in tqdm_notebook(gen, desc=\"extracting RGB information from the images\",\n",
    "                                                total = total_images(filepath)):\n",
    "        # get the color histogram\n",
    "        rgb_array = get_colour_hist(image)\n",
    "\n",
    "        # extract and format the color values\n",
    "        red_channel = rgb_array[0]\n",
    "        green_channel = rgb_array[1]\n",
    "        blue_channel = rgb_array[2]\n",
    "\n",
    "        # merged the list from RGB channel into one list\n",
    "        merged_list = np.concatenate((red_channel, green_channel, blue_channel), axis=1).flatten().tolist()\n",
    "\n",
    "        # create a DataFrame, tranpose it, add id and merge to master_df\n",
    "        df = pd.DataFrame(merged_list)\n",
    "        df = df.transpose()\n",
    "        df[\"image_id\"] = index\n",
    "        if pc == \"windows\":\n",
    "            df[\"file_path\"] = file_path.lstrip(file_path[0:2]) # save the path that are consistent for both macbook and windows\n",
    "        else:\n",
    "            df[\"file_path\"] = file_path\n",
    "        df = df.set_index('image_id')\n",
    "\n",
    "        master_df = pd.concat([master_df, df])\n",
    "\n",
    "    # split the path from the color historgram\n",
    "    path_df = master_df[[\"file_path\"]]\n",
    "    color_df = master_df.drop(\"file_path\", axis=\"columns\")\n",
    "    \n",
    "    # change the path back to project root again\n",
    "    os.chdir(root)\n",
    "    \n",
    "    #save as pickle\n",
    "    path_df.to_pickle('file_path.pkl')\n",
    "    color_df.to_pickle('color_histogram.pkl')\n",
    "    \n",
    "    print(\"-------------------------\")\n",
    "    print(\"Notes:\")\n",
    "    if pc == \"windows\":\n",
    "        print(\"path and colour information saved\")\n",
    "    else:\n",
    "        print(\"This path might only works on your pc system. Please consider the changes of path name if you are using another device\")"
   ]
  },
  {
   "cell_type": "code",
   "execution_count": 31,
   "id": "1c3e8665",
   "metadata": {},
   "outputs": [],
   "source": [
    "#filepath = os.path.join(os.getcwd(), \"weather_image_recognition\")\n",
    "filepath = r\"D:\\images\" # path for image in hard drive"
   ]
  },
  {
   "cell_type": "code",
   "execution_count": 32,
   "id": "590e973b",
   "metadata": {
    "scrolled": true
   },
   "outputs": [
    {
     "data": {
      "application/vnd.jupyter.widget-view+json": {
       "model_id": "20f1d0033dc34ab4911480619839e015",
       "version_major": 2,
       "version_minor": 0
      },
      "text/plain": [
       "extracting RGB information from the images:   0%|          | 0/31943 [00:00<?, ?it/s]"
      ]
     },
     "metadata": {},
     "output_type": "display_data"
    },
    {
     "name": "stdout",
     "output_type": "stream",
     "text": [
      "C:\\Users\\Asus\\Desktop\\Project\\ImageRecommender\\weather_image_recognition\n",
      "Error while loading image: C:\\Users\\Asus\\Desktop\\Project\\ImageRecommender\\weather_image_recognition\\fogsmog\\4514.jpg\n",
      "Error while loading image: C:\\Users\\Asus\\Desktop\\Project\\ImageRecommender\\weather_image_recognition\\my_folder\\subfolder_1\\subfolder_2\\4514.jpg\n",
      "Error while loading image: C:\\Users\\Asus\\Desktop\\Project\\ImageRecommender\\weather_image_recognition\\snow\\1187.jpg\n",
      "-------------------------\n",
      "Notes:\n",
      "path and colour information saved\n"
     ]
    }
   ],
   "source": [
    "if __name__ == \"__main__\":\n",
    "    main(filepath, pc=\"windows\")"
   ]
  },
  {
   "cell_type": "code",
   "execution_count": 33,
   "id": "79d21e48",
   "metadata": {
    "scrolled": false
   },
   "outputs": [
    {
     "data": {
      "text/html": [
       "<div>\n",
       "<style scoped>\n",
       "    .dataframe tbody tr th:only-of-type {\n",
       "        vertical-align: middle;\n",
       "    }\n",
       "\n",
       "    .dataframe tbody tr th {\n",
       "        vertical-align: top;\n",
       "    }\n",
       "\n",
       "    .dataframe thead th {\n",
       "        text-align: right;\n",
       "    }\n",
       "</style>\n",
       "<table border=\"1\" class=\"dataframe\">\n",
       "  <thead>\n",
       "    <tr style=\"text-align: right;\">\n",
       "      <th></th>\n",
       "      <th>file_path</th>\n",
       "    </tr>\n",
       "    <tr>\n",
       "      <th>image_id</th>\n",
       "      <th></th>\n",
       "    </tr>\n",
       "  </thead>\n",
       "  <tbody>\n",
       "    <tr>\n",
       "      <th>0000000_</th>\n",
       "      <td>\\Users\\Asus\\Desktop\\Project\\ImageRecommender\\w...</td>\n",
       "    </tr>\n",
       "    <tr>\n",
       "      <th>0000001_</th>\n",
       "      <td>\\Users\\Asus\\Desktop\\Project\\ImageRecommender\\w...</td>\n",
       "    </tr>\n",
       "    <tr>\n",
       "      <th>0000002_</th>\n",
       "      <td>\\Users\\Asus\\Desktop\\Project\\ImageRecommender\\w...</td>\n",
       "    </tr>\n",
       "    <tr>\n",
       "      <th>0000003_</th>\n",
       "      <td>\\Users\\Asus\\Desktop\\Project\\ImageRecommender\\w...</td>\n",
       "    </tr>\n",
       "    <tr>\n",
       "      <th>0000004_</th>\n",
       "      <td>\\Users\\Asus\\Desktop\\Project\\ImageRecommender\\w...</td>\n",
       "    </tr>\n",
       "  </tbody>\n",
       "</table>\n",
       "</div>"
      ],
      "text/plain": [
       "                                                  file_path\n",
       "image_id                                                   \n",
       "0000000_  \\Users\\Asus\\Desktop\\Project\\ImageRecommender\\w...\n",
       "0000001_  \\Users\\Asus\\Desktop\\Project\\ImageRecommender\\w...\n",
       "0000002_  \\Users\\Asus\\Desktop\\Project\\ImageRecommender\\w...\n",
       "0000003_  \\Users\\Asus\\Desktop\\Project\\ImageRecommender\\w...\n",
       "0000004_  \\Users\\Asus\\Desktop\\Project\\ImageRecommender\\w..."
      ]
     },
     "execution_count": 33,
     "metadata": {},
     "output_type": "execute_result"
    }
   ],
   "source": [
    "path_df = pd.read_pickle('file_path.pkl')\n",
    "path_df.head()"
   ]
  },
  {
   "cell_type": "code",
   "execution_count": 34,
   "id": "de397700",
   "metadata": {},
   "outputs": [
    {
     "data": {
      "text/plain": [
       "(31940, 90)"
      ]
     },
     "execution_count": 34,
     "metadata": {},
     "output_type": "execute_result"
    }
   ],
   "source": [
    "color_df = pd.read_pickle('color_histogram.pkl')\n",
    "color_df.shape"
   ]
  },
  {
   "cell_type": "code",
   "execution_count": null,
   "id": "6b3489d4",
   "metadata": {},
   "outputs": [],
   "source": []
  }
 ],
 "metadata": {
  "kernelspec": {
   "display_name": "Python 3 (ipykernel)",
   "language": "python",
   "name": "python3"
  },
  "language_info": {
   "codemirror_mode": {
    "name": "ipython",
    "version": 3
   },
   "file_extension": ".py",
   "mimetype": "text/x-python",
   "name": "python",
   "nbconvert_exporter": "python",
   "pygments_lexer": "ipython3",
   "version": "3.9.16"
  }
 },
 "nbformat": 4,
 "nbformat_minor": 5
}
