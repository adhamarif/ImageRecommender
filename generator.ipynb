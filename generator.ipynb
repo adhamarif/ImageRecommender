{
 "cells": [
  {
   "cell_type": "code",
   "execution_count": 2,
   "id": "e3cfd14e",
   "metadata": {},
   "outputs": [],
   "source": [
    "import re\n",
    "import pandas as pd\n",
    "import os\n",
    "import cv2\n",
    "import numpy as np\n",
    "import matplotlib.pyplot as plt\n",
    "from tqdm.notebook import tqdm_notebook"
   ]
  },
  {
   "cell_type": "code",
   "execution_count": 20,
   "id": "c733cf56",
   "metadata": {
    "scrolled": false
   },
   "outputs": [
    {
     "data": {
      "text/plain": [
       "'C:\\\\Users\\\\Asus\\\\Desktop\\\\Project\\\\ImageRecommender'"
      ]
     },
     "execution_count": 20,
     "metadata": {},
     "output_type": "execute_result"
    }
   ],
   "source": [
    "os.getcwd()"
   ]
  },
  {
   "cell_type": "code",
   "execution_count": 8,
   "id": "a28ca453",
   "metadata": {},
   "outputs": [],
   "source": [
    "# Counter for unique image names\n",
    "image_counter = 0\n",
    "\n",
    "# creating the generator\n",
    "def reader(filepath, rename=False):\n",
    "    '''\n",
    "    This function generates through all the images file in the folder\n",
    "    ''' \n",
    "    current_path = filepath \n",
    "    print(current_path)\n",
    "    \n",
    "    global image_counter  \n",
    "    \n",
    "    for foldername in os.listdir(current_path):\n",
    "        folderpath = os.path.join(filepath, foldername)\n",
    "        current_path = folderpath\n",
    "        \n",
    "        if os.path.isdir(folderpath) and not foldername.startswith('.'):\n",
    "            os.chdir(folderpath)\n",
    "            print(folderpath)\n",
    "            \n",
    "            for file in os.listdir(folderpath):\n",
    "                if file.endswith(\".jpg\") or file.endswith(\".png\"): \n",
    "                    with open(os.path.join(folderpath, file), \"rb\") as f:\n",
    "                        image = f.read()\n",
    "                        img = cv2.imread(file)\n",
    "                    \n",
    "                    # check if image can be loaded correctly\n",
    "                    if img is not None:   \n",
    "                        #create new name\n",
    "                        unique_id = f\"{image_counter:07}_\"\n",
    "                        \n",
    "                        image_counter += 1\n",
    "                        \n",
    "                        # yield tuple, so later we need to use\n",
    "                        yield (unique_id, img, os.path.join(folderpath, file))\n",
    "                        \n",
    "                    else:\n",
    "                        # check path or image format\n",
    "                        print(f\"Error while loading image: {file}\")\n",
    "            \n",
    "            os.chdir('..')"
   ]
  },
  {
   "cell_type": "code",
   "execution_count": 13,
   "id": "0bec96bc",
   "metadata": {},
   "outputs": [],
   "source": [
    "def get_colour_hist(image):\n",
    "    \n",
    "    red_channel = image[:, :, 0]\n",
    "    green_channel = image[:, :, 1]\n",
    "    blue_channel = image[:, :, 2]\n",
    "\n",
    "    # Calculate colour histogram\n",
    "    red_hist = cv2.calcHist([red_channel], [0], None, [30], [0, 256])\n",
    "    green_hist = cv2.calcHist([green_channel], [0], None, [30], [0, 256])\n",
    "    blue_hist = cv2.calcHist([blue_channel], [0], None, [30], [0, 256])\n",
    "\n",
    "    # Normalize the colour histogram value\n",
    "    red_hist = cv2.normalize(red_hist, None, alpha=0, beta=1, norm_type=cv2.NORM_MINMAX)\n",
    "    green_hist = cv2.normalize(green_hist, None, alpha=0, beta=1, norm_type=cv2.NORM_MINMAX)\n",
    "    blue_hist = cv2.normalize(blue_hist, None, alpha=0, beta=1, norm_type=cv2.NORM_MINMAX)\n",
    "\n",
    "    return red_hist, green_hist, blue_hist"
   ]
  },
  {
   "cell_type": "code",
   "execution_count": 21,
   "id": "1c3e8665",
   "metadata": {},
   "outputs": [],
   "source": [
    "filepath = os.path.join(os.getcwd(), \"weather_image_recognition\")\n",
    "gen = reader(filepath)"
   ]
  },
  {
   "cell_type": "code",
   "execution_count": 22,
   "id": "9fe96028",
   "metadata": {},
   "outputs": [],
   "source": [
    "# change to `filepath` for creating the csv there\n",
    "os.chdir(filepath)"
   ]
  },
  {
   "cell_type": "code",
   "execution_count": 23,
   "id": "825204cb",
   "metadata": {
    "scrolled": true
   },
   "outputs": [
    {
     "data": {
      "application/vnd.jupyter.widget-view+json": {
       "model_id": "078e413e67e647cfa04023fb94fdc719",
       "version_major": 2,
       "version_minor": 0
      },
      "text/plain": [
       "extracting RGB information from the images: 0it [00:00, ?it/s]"
      ]
     },
     "metadata": {},
     "output_type": "display_data"
    },
    {
     "name": "stdout",
     "output_type": "stream",
     "text": [
      "C:\\Users\\Asus\\Desktop\\Project\\ImageRecommender\\weather_image_recognition\n",
      "C:\\Users\\Asus\\Desktop\\Project\\ImageRecommender\\weather_image_recognition\\dew\n",
      "C:\\Users\\Asus\\Desktop\\Project\\ImageRecommender\\weather_image_recognition\\fogsmog\n",
      "Error while loading image: 4514.jpg\n",
      "C:\\Users\\Asus\\Desktop\\Project\\ImageRecommender\\weather_image_recognition\\frost\n",
      "C:\\Users\\Asus\\Desktop\\Project\\ImageRecommender\\weather_image_recognition\\glaze\n",
      "C:\\Users\\Asus\\Desktop\\Project\\ImageRecommender\\weather_image_recognition\\hail\n",
      "C:\\Users\\Asus\\Desktop\\Project\\ImageRecommender\\weather_image_recognition\\lightning\n",
      "C:\\Users\\Asus\\Desktop\\Project\\ImageRecommender\\weather_image_recognition\\rain\n",
      "C:\\Users\\Asus\\Desktop\\Project\\ImageRecommender\\weather_image_recognition\\rainbow\n",
      "C:\\Users\\Asus\\Desktop\\Project\\ImageRecommender\\weather_image_recognition\\rime\n",
      "C:\\Users\\Asus\\Desktop\\Project\\ImageRecommender\\weather_image_recognition\\sandstorm\n",
      "C:\\Users\\Asus\\Desktop\\Project\\ImageRecommender\\weather_image_recognition\\snow\n",
      "Error while loading image: 1187.jpg\n",
      "C:\\Users\\Asus\\Desktop\\Project\\ImageRecommender\\weather_image_recognition\\unlabeled2017\n"
     ]
    }
   ],
   "source": [
    "# Counter for unique image names\n",
    "image_counter = 0\n",
    "gen = reader(filepath) # get histogram values\n",
    "\n",
    "master_df = pd.DataFrame()\n",
    "# LOOP OVER ALL IMAGES\n",
    "\n",
    "for index, image, file_path in tqdm_notebook(gen, desc=\"extracting RGB information from the images\"): # tqdm for terminal \n",
    "    #file_name = os.path.basename(file_path).replace(\".jpg\", \"\").replace(\".png\", \"\") # extract the filename\n",
    "    rgb_array = get_colour_hist(image)\n",
    "    \n",
    "    # extract and format the color values\n",
    "    red_channel = rgb_array[0]\n",
    "    green_channel = rgb_array[1]\n",
    "    blue_channel = rgb_array[2]\n",
    "   \n",
    "    # merged the list from RGB channel into one list\n",
    "    merged_list = np.concatenate((red_channel, green_channel, blue_channel), axis=1).flatten().tolist()\n",
    "    \n",
    "    # create a DataFrame, tranpose it, add id and merge to master_df\n",
    "    df = pd.DataFrame(merged_list)\n",
    "    df = df.transpose()\n",
    "    df[\"image_id\"] = index\n",
    "    df[\"file_path\"] = file_path\n",
    "    df = df.set_index('image_id')\n",
    "    \n",
    "    master_df = pd.concat([master_df, df])\n",
    "\n",
    "# split the path from the color historgram\n",
    "path_df = master_df[[\"file_path\"]]\n",
    "color_df = master_df.drop(\"file_path\", axis=\"columns\")\n",
    "\n",
    "# save to csv\n",
    "path_df.to_csv('file_path.csv')\n",
    "color_df.to_csv('color_histogram.csv')"
   ]
  }
 ],
 "metadata": {
  "kernelspec": {
   "display_name": "Python 3 (ipykernel)",
   "language": "python",
   "name": "python3"
  },
  "language_info": {
   "codemirror_mode": {
    "name": "ipython",
    "version": 3
   },
   "file_extension": ".py",
   "mimetype": "text/x-python",
   "name": "python",
   "nbconvert_exporter": "python",
   "pygments_lexer": "ipython3",
   "version": "3.9.16"
  }
 },
 "nbformat": 4,
 "nbformat_minor": 5
}
