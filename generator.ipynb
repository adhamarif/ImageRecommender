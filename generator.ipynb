{
 "cells": [
  {
   "cell_type": "code",
   "execution_count": 1,
   "id": "e3cfd14e",
   "metadata": {},
   "outputs": [],
   "source": [
    "import re\n",
    "import csv\n",
    "import pandas as pd\n",
    "import os\n",
    "import cv2\n",
    "import numpy as np\n",
    "import matplotlib.pyplot as plt\n",
    "from tqdm.notebook import tqdm\n",
    "from tqdm import tqdm\n",
    "import pickle"
   ]
  },
  {
   "cell_type": "code",
   "execution_count": 2,
   "id": "c733cf56",
   "metadata": {},
   "outputs": [
    {
     "data": {
      "text/plain": [
       "'C:\\\\Users\\\\Asus\\\\Desktop\\\\Project\\\\ImageRecommender'"
      ]
     },
     "execution_count": 2,
     "metadata": {},
     "output_type": "execute_result"
    }
   ],
   "source": [
    "os.getcwd()"
   ]
  },
  {
   "cell_type": "code",
   "execution_count": 285,
   "id": "b6fca5b7",
   "metadata": {},
   "outputs": [],
   "source": [
    "# Counter for unique image names\n",
    "#image_counter = 0\n",
    "\n",
    "# we should make another generator to rename the images, so that only the rename generator run once, and then we can run the generator files to get the filepath multiple times\n",
    "\n",
    "# creating the generator\n",
    "def reader(filepath):\n",
    "    current_path = filepath \n",
    "    print(current_path)\n",
    "    \n",
    "    #global image_counter  \n",
    "    \n",
    "    for foldername in os.listdir(current_path):\n",
    "        folderpath = os.path.join(filepath, foldername)\n",
    "        current_path = folderpath\n",
    "        \n",
    "        if os.path.isdir(folderpath) and not foldername.startswith('.'):\n",
    "            os.chdir(folderpath)\n",
    "            print(folderpath)\n",
    "            \n",
    "            for file in os.listdir(folderpath):\n",
    "                if file.endswith(\".jpg\") or file.endswith(\".png\"): \n",
    "                    with open(os.path.join(folderpath, file), \"rb\") as f:\n",
    "                        image = f.read()\n",
    "                        img = cv2.imread(file)\n",
    "                    \n",
    "                    # check if image can be loaded correctly\n",
    "                    if img is not None:\n",
    "    \n",
    "                        # create new name\n",
    "                        #if file.endswith(\".jpg\"):\n",
    "                        #    new_file_name = f\"{image_counter}_.jpg\"\n",
    "                        \n",
    "                        #else:\n",
    "                        #    new_file_name = f\"{image_counter}_.png\"\n",
    "                        \n",
    "                        #os.rename(file, new_file_name)\n",
    "                        \n",
    "                        #image_counter += 1\n",
    "                        \n",
    "                        # yield tuple, so later we need to use\n",
    "                        yield (img, os.path.join(folderpath, file))\n",
    "                        \n",
    "                    else:\n",
    "                        # check path or image format\n",
    "                        print(f\"Error while loading image: {file}\")\n",
    "            \n",
    "            os.chdir('..')"
   ]
  },
  {
   "cell_type": "code",
   "execution_count": 300,
   "id": "2d096b95",
   "metadata": {},
   "outputs": [],
   "source": [
    "def get_colour_hist(image):\n",
    "    \n",
    "    red_channel = image[:, :, 0]\n",
    "    green_channel = image[:, :, 1]\n",
    "    blue_channel = image[:, :, 2]\n",
    "\n",
    "    # Calculate colour histogram\n",
    "    red_hist = cv2.calcHist([red_channel], [0], None, [30], [0, 256])\n",
    "    green_hist = cv2.calcHist([green_channel], [0], None, [30], [0, 256])\n",
    "    blue_hist = cv2.calcHist([blue_channel], [0], None, [30], [0, 256])\n",
    "\n",
    "    # Normalize the colour histogram value\n",
    "    red_hist = cv2.normalize(red_hist, None, alpha=0, beta=1, norm_type=cv2.NORM_MINMAX)\n",
    "    green_hist = cv2.normalize(green_hist, None, alpha=0, beta=1, norm_type=cv2.NORM_MINMAX)\n",
    "    blue_hist = cv2.normalize(blue_hist, None, alpha=0, beta=1, norm_type=cv2.NORM_MINMAX)\n",
    "\n",
    "    return red_hist, green_hist, blue_hist"
   ]
  },
  {
   "cell_type": "code",
   "execution_count": 293,
   "id": "7efd0127",
   "metadata": {},
   "outputs": [],
   "source": [
    "filepath = os.path.join(os.getcwd(), \"weather_image_recognition\")\n",
    "gen = reader(filepath)"
   ]
  },
  {
   "cell_type": "code",
   "execution_count": 294,
   "id": "409cdede",
   "metadata": {},
   "outputs": [],
   "source": [
    "# change to `filepath` for creating the csv there\n",
    "os.chdir(filepath)"
   ]
  },
  {
   "cell_type": "code",
   "execution_count": 295,
   "id": "e912a438",
   "metadata": {
    "scrolled": false
   },
   "outputs": [
    {
     "name": "stderr",
     "output_type": "stream",
     "text": [
      "extracting information from the images + renaming by unique ID's: 12it [00:00, 104.73it/s]"
     ]
    },
    {
     "name": "stdout",
     "output_type": "stream",
     "text": [
      "C:\\Users\\Asus\\Desktop\\Project\\ImageRecommender\\weather_image_recognition\n",
      "C:\\Users\\Asus\\Desktop\\Project\\ImageRecommender\\weather_image_recognition\\dew\n"
     ]
    },
    {
     "name": "stderr",
     "output_type": "stream",
     "text": [
      "extracting information from the images + renaming by unique ID's: 1407it [00:14, 94.70it/s] "
     ]
    },
    {
     "name": "stdout",
     "output_type": "stream",
     "text": [
      "C:\\Users\\Asus\\Desktop\\Project\\ImageRecommender\\weather_image_recognition\\fogsmog\n"
     ]
    },
    {
     "name": "stderr",
     "output_type": "stream",
     "text": [
      "extracting information from the images + renaming by unique ID's: 3101it [00:27, 98.41it/s] "
     ]
    },
    {
     "name": "stdout",
     "output_type": "stream",
     "text": [
      "Error while loading image: 4514.jpg\n",
      "C:\\Users\\Asus\\Desktop\\Project\\ImageRecommender\\weather_image_recognition\\frost\n"
     ]
    },
    {
     "name": "stderr",
     "output_type": "stream",
     "text": [
      "extracting information from the images + renaming by unique ID's: 4061it [00:43, 83.49it/s] "
     ]
    },
    {
     "name": "stdout",
     "output_type": "stream",
     "text": [
      "C:\\Users\\Asus\\Desktop\\Project\\ImageRecommender\\weather_image_recognition\\glaze\n"
     ]
    },
    {
     "name": "stderr",
     "output_type": "stream",
     "text": [
      "extracting information from the images + renaming by unique ID's: 5337it [00:50, 118.72it/s]"
     ]
    },
    {
     "name": "stdout",
     "output_type": "stream",
     "text": [
      "C:\\Users\\Asus\\Desktop\\Project\\ImageRecommender\\weather_image_recognition\\hail\n"
     ]
    },
    {
     "name": "stderr",
     "output_type": "stream",
     "text": [
      "extracting information from the images + renaming by unique ID's: 6533it [01:00, 143.76it/s]"
     ]
    },
    {
     "name": "stdout",
     "output_type": "stream",
     "text": [
      "C:\\Users\\Asus\\Desktop\\Project\\ImageRecommender\\weather_image_recognition\\lightning\n"
     ]
    },
    {
     "name": "stderr",
     "output_type": "stream",
     "text": [
      "extracting information from the images + renaming by unique ID's: 7287it [01:06, 125.47it/s]"
     ]
    },
    {
     "name": "stdout",
     "output_type": "stream",
     "text": [
      "C:\\Users\\Asus\\Desktop\\Project\\ImageRecommender\\weather_image_recognition\\rain\n"
     ]
    },
    {
     "name": "stderr",
     "output_type": "stream",
     "text": [
      "extracting information from the images + renaming by unique ID's: 8331it [01:14, 122.56it/s]"
     ]
    },
    {
     "name": "stdout",
     "output_type": "stream",
     "text": [
      "C:\\Users\\Asus\\Desktop\\Project\\ImageRecommender\\weather_image_recognition\\rainbow\n"
     ]
    },
    {
     "name": "stderr",
     "output_type": "stream",
     "text": [
      "extracting information from the images + renaming by unique ID's: 8795it [01:18, 125.82it/s]"
     ]
    },
    {
     "name": "stdout",
     "output_type": "stream",
     "text": [
      "C:\\Users\\Asus\\Desktop\\Project\\ImageRecommender\\weather_image_recognition\\rime\n"
     ]
    },
    {
     "name": "stderr",
     "output_type": "stream",
     "text": [
      "extracting information from the images + renaming by unique ID's: 11114it [01:41, 95.45it/s] "
     ]
    },
    {
     "name": "stdout",
     "output_type": "stream",
     "text": [
      "C:\\Users\\Asus\\Desktop\\Project\\ImageRecommender\\weather_image_recognition\\sandstorm\n"
     ]
    },
    {
     "name": "stderr",
     "output_type": "stream",
     "text": [
      "extracting information from the images + renaming by unique ID's: 12491it [01:54, 111.88it/s]"
     ]
    },
    {
     "name": "stdout",
     "output_type": "stream",
     "text": [
      "C:\\Users\\Asus\\Desktop\\Project\\ImageRecommender\\weather_image_recognition\\snow\n",
      "Error while loading image: 1187.jpg\n"
     ]
    },
    {
     "name": "stderr",
     "output_type": "stream",
     "text": [
      "extracting information from the images + renaming by unique ID's: 13720it [02:06, 108.34it/s]\n"
     ]
    }
   ],
   "source": [
    "gen = reader(filepath)\n",
    "\n",
    "master_df = pd.DataFrame()\n",
    "# LOOP OVER ALL IMAGES\n",
    "\n",
    "for image, file_path in tqdm(gen, desc=\"extracting RGB information from the images\"):\n",
    "    file_name = os.path.basename(file_path).replace(\".jpg\", \"\").replace(\".png\", \"\") # extract the filename\n",
    "    rgb_array = get_colour_hist(image)\n",
    "    \n",
    "    # extract and format the color values\n",
    "    red_channel = rgb_array[0]\n",
    "    green_channel = rgb_array[1]\n",
    "    blue_channel = rgb_array[2]\n",
    "   \n",
    "    # merged the list from RGB channel into one list\n",
    "    merged_list = np.concatenate((red_channel, green_channel, blue_channel), axis=1).flatten().tolist()\n",
    "    \n",
    "    # create a DataFrame, tranpose it, add id and merge to master_df\n",
    "    df = pd.DataFrame(merged_list)\n",
    "    df = df.transpose()\n",
    "    df[\"image_id\"] = file_name\n",
    "    df = df.set_index('image_id')\n",
    "    \n",
    "    master_df = pd.concat([master_df, df])\n",
    "    \n",
    "master_df.to_csv('color_histogram.csv')"
   ]
  },
  {
   "cell_type": "markdown",
   "id": "50ab4821",
   "metadata": {},
   "source": [
    "### check csv"
   ]
  },
  {
   "cell_type": "code",
   "execution_count": 296,
   "id": "da7b955d",
   "metadata": {
    "scrolled": false
   },
   "outputs": [
    {
     "data": {
      "text/html": [
       "<div>\n",
       "<style scoped>\n",
       "    .dataframe tbody tr th:only-of-type {\n",
       "        vertical-align: middle;\n",
       "    }\n",
       "\n",
       "    .dataframe tbody tr th {\n",
       "        vertical-align: top;\n",
       "    }\n",
       "\n",
       "    .dataframe thead th {\n",
       "        text-align: right;\n",
       "    }\n",
       "</style>\n",
       "<table border=\"1\" class=\"dataframe\">\n",
       "  <thead>\n",
       "    <tr style=\"text-align: right;\">\n",
       "      <th></th>\n",
       "      <th>0</th>\n",
       "      <th>1</th>\n",
       "      <th>2</th>\n",
       "      <th>3</th>\n",
       "      <th>4</th>\n",
       "      <th>5</th>\n",
       "      <th>6</th>\n",
       "      <th>7</th>\n",
       "      <th>8</th>\n",
       "      <th>9</th>\n",
       "      <th>...</th>\n",
       "      <th>80</th>\n",
       "      <th>81</th>\n",
       "      <th>82</th>\n",
       "      <th>83</th>\n",
       "      <th>84</th>\n",
       "      <th>85</th>\n",
       "      <th>86</th>\n",
       "      <th>87</th>\n",
       "      <th>88</th>\n",
       "      <th>89</th>\n",
       "    </tr>\n",
       "    <tr>\n",
       "      <th>image_id</th>\n",
       "      <th></th>\n",
       "      <th></th>\n",
       "      <th></th>\n",
       "      <th></th>\n",
       "      <th></th>\n",
       "      <th></th>\n",
       "      <th></th>\n",
       "      <th></th>\n",
       "      <th></th>\n",
       "      <th></th>\n",
       "      <th></th>\n",
       "      <th></th>\n",
       "      <th></th>\n",
       "      <th></th>\n",
       "      <th></th>\n",
       "      <th></th>\n",
       "      <th></th>\n",
       "      <th></th>\n",
       "      <th></th>\n",
       "      <th></th>\n",
       "      <th></th>\n",
       "    </tr>\n",
       "  </thead>\n",
       "  <tbody>\n",
       "    <tr>\n",
       "      <th>0_</th>\n",
       "      <td>1.000000e+00</td>\n",
       "      <td>8.741844e-02</td>\n",
       "      <td>7.034527e-01</td>\n",
       "      <td>0.011057</td>\n",
       "      <td>0.052840</td>\n",
       "      <td>0.601915</td>\n",
       "      <td>0.003207</td>\n",
       "      <td>0.083466</td>\n",
       "      <td>0.649100</td>\n",
       "      <td>0.002313</td>\n",
       "      <td>...</td>\n",
       "      <td>0.000042</td>\n",
       "      <td>1.295889e-05</td>\n",
       "      <td>0.001407</td>\n",
       "      <td>-1.437002e-10</td>\n",
       "      <td>0.000104</td>\n",
       "      <td>5.275069e-11</td>\n",
       "      <td>0.001708</td>\n",
       "      <td>1.584224e-03</td>\n",
       "      <td>2.844281e-02</td>\n",
       "      <td>2.160399e-02</td>\n",
       "    </tr>\n",
       "    <tr>\n",
       "      <th>1000_</th>\n",
       "      <td>-3.637979e-12</td>\n",
       "      <td>0.000000e+00</td>\n",
       "      <td>1.804543e-01</td>\n",
       "      <td>0.000839</td>\n",
       "      <td>0.000061</td>\n",
       "      <td>0.552615</td>\n",
       "      <td>0.002516</td>\n",
       "      <td>0.000245</td>\n",
       "      <td>0.772869</td>\n",
       "      <td>0.006948</td>\n",
       "      <td>...</td>\n",
       "      <td>0.893103</td>\n",
       "      <td>1.644254e-02</td>\n",
       "      <td>0.018962</td>\n",
       "      <td>1.000000e+00</td>\n",
       "      <td>0.026745</td>\n",
       "      <td>3.200172e-02</td>\n",
       "      <td>0.364451</td>\n",
       "      <td>1.000000e+00</td>\n",
       "      <td>9.999999e-01</td>\n",
       "      <td>-2.182787e-10</td>\n",
       "    </tr>\n",
       "    <tr>\n",
       "      <th>1001_</th>\n",
       "      <td>2.404346e-03</td>\n",
       "      <td>0.000000e+00</td>\n",
       "      <td>-2.910383e-11</td>\n",
       "      <td>0.344191</td>\n",
       "      <td>0.000829</td>\n",
       "      <td>0.124428</td>\n",
       "      <td>0.788487</td>\n",
       "      <td>0.007918</td>\n",
       "      <td>0.812184</td>\n",
       "      <td>1.000000</td>\n",
       "      <td>...</td>\n",
       "      <td>0.002182</td>\n",
       "      <td>1.618309e-04</td>\n",
       "      <td>0.005431</td>\n",
       "      <td>1.654240e-03</td>\n",
       "      <td>0.000971</td>\n",
       "      <td>6.591220e-03</td>\n",
       "      <td>0.002661</td>\n",
       "      <td>6.311409e-03</td>\n",
       "      <td>1.517224e-02</td>\n",
       "      <td>7.551965e-03</td>\n",
       "    </tr>\n",
       "    <tr>\n",
       "      <th>1002_</th>\n",
       "      <td>2.106366e-01</td>\n",
       "      <td>-2.764864e-10</td>\n",
       "      <td>3.567204e-02</td>\n",
       "      <td>1.000000</td>\n",
       "      <td>0.056267</td>\n",
       "      <td>0.733825</td>\n",
       "      <td>0.653571</td>\n",
       "      <td>0.105277</td>\n",
       "      <td>1.000000</td>\n",
       "      <td>0.588742</td>\n",
       "      <td>...</td>\n",
       "      <td>0.001001</td>\n",
       "      <td>1.746230e-10</td>\n",
       "      <td>0.014857</td>\n",
       "      <td>6.839400e-10</td>\n",
       "      <td>0.005823</td>\n",
       "      <td>1.904030e-02</td>\n",
       "      <td>0.006734</td>\n",
       "      <td>1.145186e-01</td>\n",
       "      <td>1.314037e-01</td>\n",
       "      <td>1.133861e-01</td>\n",
       "    </tr>\n",
       "    <tr>\n",
       "      <th>1003_</th>\n",
       "      <td>1.000000e+00</td>\n",
       "      <td>2.343813e-03</td>\n",
       "      <td>-2.182787e-11</td>\n",
       "      <td>0.339824</td>\n",
       "      <td>0.009779</td>\n",
       "      <td>0.001660</td>\n",
       "      <td>0.288812</td>\n",
       "      <td>0.020044</td>\n",
       "      <td>0.005371</td>\n",
       "      <td>0.468580</td>\n",
       "      <td>...</td>\n",
       "      <td>0.032910</td>\n",
       "      <td>6.154142e-03</td>\n",
       "      <td>0.001374</td>\n",
       "      <td>2.109375e-02</td>\n",
       "      <td>0.001635</td>\n",
       "      <td>5.576659e-03</td>\n",
       "      <td>0.024609</td>\n",
       "      <td>1.818989e-11</td>\n",
       "      <td>8.731149e-11</td>\n",
       "      <td>3.544922e-02</td>\n",
       "    </tr>\n",
       "  </tbody>\n",
       "</table>\n",
       "<p>5 rows × 90 columns</p>\n",
       "</div>"
      ],
      "text/plain": [
       "                     0             1             2         3         4  \\\n",
       "image_id                                                                 \n",
       "0_        1.000000e+00  8.741844e-02  7.034527e-01  0.011057  0.052840   \n",
       "1000_    -3.637979e-12  0.000000e+00  1.804543e-01  0.000839  0.000061   \n",
       "1001_     2.404346e-03  0.000000e+00 -2.910383e-11  0.344191  0.000829   \n",
       "1002_     2.106366e-01 -2.764864e-10  3.567204e-02  1.000000  0.056267   \n",
       "1003_     1.000000e+00  2.343813e-03 -2.182787e-11  0.339824  0.009779   \n",
       "\n",
       "                 5         6         7         8         9  ...        80  \\\n",
       "image_id                                                    ...             \n",
       "0_        0.601915  0.003207  0.083466  0.649100  0.002313  ...  0.000042   \n",
       "1000_     0.552615  0.002516  0.000245  0.772869  0.006948  ...  0.893103   \n",
       "1001_     0.124428  0.788487  0.007918  0.812184  1.000000  ...  0.002182   \n",
       "1002_     0.733825  0.653571  0.105277  1.000000  0.588742  ...  0.001001   \n",
       "1003_     0.001660  0.288812  0.020044  0.005371  0.468580  ...  0.032910   \n",
       "\n",
       "                    81        82            83        84            85  \\\n",
       "image_id                                                                 \n",
       "0_        1.295889e-05  0.001407 -1.437002e-10  0.000104  5.275069e-11   \n",
       "1000_     1.644254e-02  0.018962  1.000000e+00  0.026745  3.200172e-02   \n",
       "1001_     1.618309e-04  0.005431  1.654240e-03  0.000971  6.591220e-03   \n",
       "1002_     1.746230e-10  0.014857  6.839400e-10  0.005823  1.904030e-02   \n",
       "1003_     6.154142e-03  0.001374  2.109375e-02  0.001635  5.576659e-03   \n",
       "\n",
       "                86            87            88            89  \n",
       "image_id                                                      \n",
       "0_        0.001708  1.584224e-03  2.844281e-02  2.160399e-02  \n",
       "1000_     0.364451  1.000000e+00  9.999999e-01 -2.182787e-10  \n",
       "1001_     0.002661  6.311409e-03  1.517224e-02  7.551965e-03  \n",
       "1002_     0.006734  1.145186e-01  1.314037e-01  1.133861e-01  \n",
       "1003_     0.024609  1.818989e-11  8.731149e-11  3.544922e-02  \n",
       "\n",
       "[5 rows x 90 columns]"
      ]
     },
     "execution_count": 296,
     "metadata": {},
     "output_type": "execute_result"
    }
   ],
   "source": [
    "data = pd.read_csv('color_histogram.csv', index_col='image_id')\n",
    "data.head()"
   ]
  },
  {
   "cell_type": "code",
   "execution_count": 301,
   "id": "c91a757a",
   "metadata": {},
   "outputs": [
    {
     "name": "stdout",
     "output_type": "stream",
     "text": [
      "<class 'pandas.core.frame.DataFrame'>\n",
      "Index: 13720 entries, 0_ to 13719_\n",
      "Data columns (total 90 columns):\n",
      " #   Column  Non-Null Count  Dtype  \n",
      "---  ------  --------------  -----  \n",
      " 0   0       13720 non-null  float64\n",
      " 1   1       13720 non-null  float64\n",
      " 2   2       13720 non-null  float64\n",
      " 3   3       13720 non-null  float64\n",
      " 4   4       13720 non-null  float64\n",
      " 5   5       13720 non-null  float64\n",
      " 6   6       13720 non-null  float64\n",
      " 7   7       13720 non-null  float64\n",
      " 8   8       13720 non-null  float64\n",
      " 9   9       13720 non-null  float64\n",
      " 10  10      13720 non-null  float64\n",
      " 11  11      13720 non-null  float64\n",
      " 12  12      13720 non-null  float64\n",
      " 13  13      13720 non-null  float64\n",
      " 14  14      13720 non-null  float64\n",
      " 15  15      13720 non-null  float64\n",
      " 16  16      13720 non-null  float64\n",
      " 17  17      13720 non-null  float64\n",
      " 18  18      13720 non-null  float64\n",
      " 19  19      13720 non-null  float64\n",
      " 20  20      13720 non-null  float64\n",
      " 21  21      13720 non-null  float64\n",
      " 22  22      13720 non-null  float64\n",
      " 23  23      13720 non-null  float64\n",
      " 24  24      13720 non-null  float64\n",
      " 25  25      13720 non-null  float64\n",
      " 26  26      13720 non-null  float64\n",
      " 27  27      13720 non-null  float64\n",
      " 28  28      13720 non-null  float64\n",
      " 29  29      13720 non-null  float64\n",
      " 30  30      13720 non-null  float64\n",
      " 31  31      13720 non-null  float64\n",
      " 32  32      13720 non-null  float64\n",
      " 33  33      13720 non-null  float64\n",
      " 34  34      13720 non-null  float64\n",
      " 35  35      13720 non-null  float64\n",
      " 36  36      13720 non-null  float64\n",
      " 37  37      13720 non-null  float64\n",
      " 38  38      13720 non-null  float64\n",
      " 39  39      13720 non-null  float64\n",
      " 40  40      13720 non-null  float64\n",
      " 41  41      13720 non-null  float64\n",
      " 42  42      13720 non-null  float64\n",
      " 43  43      13720 non-null  float64\n",
      " 44  44      13720 non-null  float64\n",
      " 45  45      13720 non-null  float64\n",
      " 46  46      13720 non-null  float64\n",
      " 47  47      13720 non-null  float64\n",
      " 48  48      13720 non-null  float64\n",
      " 49  49      13720 non-null  float64\n",
      " 50  50      13720 non-null  float64\n",
      " 51  51      13720 non-null  float64\n",
      " 52  52      13720 non-null  float64\n",
      " 53  53      13720 non-null  float64\n",
      " 54  54      13720 non-null  float64\n",
      " 55  55      13720 non-null  float64\n",
      " 56  56      13720 non-null  float64\n",
      " 57  57      13720 non-null  float64\n",
      " 58  58      13720 non-null  float64\n",
      " 59  59      13720 non-null  float64\n",
      " 60  60      13720 non-null  float64\n",
      " 61  61      13720 non-null  float64\n",
      " 62  62      13720 non-null  float64\n",
      " 63  63      13720 non-null  float64\n",
      " 64  64      13720 non-null  float64\n",
      " 65  65      13720 non-null  float64\n",
      " 66  66      13720 non-null  float64\n",
      " 67  67      13720 non-null  float64\n",
      " 68  68      13720 non-null  float64\n",
      " 69  69      13720 non-null  float64\n",
      " 70  70      13720 non-null  float64\n",
      " 71  71      13720 non-null  float64\n",
      " 72  72      13720 non-null  float64\n",
      " 73  73      13720 non-null  float64\n",
      " 74  74      13720 non-null  float64\n",
      " 75  75      13720 non-null  float64\n",
      " 76  76      13720 non-null  float64\n",
      " 77  77      13720 non-null  float64\n",
      " 78  78      13720 non-null  float64\n",
      " 79  79      13720 non-null  float64\n",
      " 80  80      13720 non-null  float64\n",
      " 81  81      13720 non-null  float64\n",
      " 82  82      13720 non-null  float64\n",
      " 83  83      13720 non-null  float64\n",
      " 84  84      13720 non-null  float64\n",
      " 85  85      13720 non-null  float64\n",
      " 86  86      13720 non-null  float64\n",
      " 87  87      13720 non-null  float64\n",
      " 88  88      13720 non-null  float64\n",
      " 89  89      13720 non-null  float64\n",
      "dtypes: float64(90)\n",
      "memory usage: 10.0+ MB\n"
     ]
    }
   ],
   "source": [
    "data.info()"
   ]
  },
  {
   "cell_type": "code",
   "execution_count": 303,
   "id": "c9257a03",
   "metadata": {},
   "outputs": [
    {
     "data": {
      "text/plain": [
       "0     1.000000e+00\n",
       "1     1.000000e+00\n",
       "2     5.878974e-09\n",
       "3     3.283972e-01\n",
       "4     7.745188e-02\n",
       "          ...     \n",
       "85    9.945388e-04\n",
       "86    1.571559e-01\n",
       "87    2.685491e-03\n",
       "88    5.286759e-03\n",
       "89    4.612580e-01\n",
       "Name: 1187_, Length: 90, dtype: float64"
      ]
     },
     "execution_count": 303,
     "metadata": {},
     "output_type": "execute_result"
    }
   ],
   "source": [
    "data.loc['1187_']"
   ]
  }
 ],
 "metadata": {
  "kernelspec": {
   "display_name": "Python 3 (ipykernel)",
   "language": "python",
   "name": "python3"
  },
  "language_info": {
   "codemirror_mode": {
    "name": "ipython",
    "version": 3
   },
   "file_extension": ".py",
   "mimetype": "text/x-python",
   "name": "python",
   "nbconvert_exporter": "python",
   "pygments_lexer": "ipython3",
   "version": "3.9.16"
  }
 },
 "nbformat": 4,
 "nbformat_minor": 5
}
