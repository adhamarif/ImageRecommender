{
 "cells": [
  {
   "cell_type": "code",
   "execution_count": 1,
   "id": "e3cfd14e",
   "metadata": {},
   "outputs": [],
   "source": [
    "import re\n",
    "import csv\n",
    "import pandas as pd\n",
    "import os\n",
    "import cv2\n",
    "import numpy as np\n",
    "import matplotlib.pyplot as plt\n",
    "from tqdm.notebook import tqdm\n",
    "from tqdm import tqdm\n",
    "import pickle"
   ]
  },
  {
   "cell_type": "code",
   "execution_count": 27,
   "id": "c733cf56",
   "metadata": {
    "scrolled": true
   },
   "outputs": [
    {
     "data": {
      "text/plain": [
       "'C:\\\\Users\\\\Asus\\\\Desktop\\\\Project\\\\ImageRecommender'"
      ]
     },
     "execution_count": 27,
     "metadata": {},
     "output_type": "execute_result"
    }
   ],
   "source": [
    "os.getcwd()"
   ]
  },
  {
   "cell_type": "code",
   "execution_count": 4,
   "id": "a28ca453",
   "metadata": {},
   "outputs": [],
   "source": [
    "# Counter for unique image names\n",
    "image_counter = 0\n",
    "\n",
    "# we should make another generator to rename the images, so that only the rename generator run once, and then we can run the generator files to get the filepath multiple times\n",
    "\n",
    "# creating the generator\n",
    "def reader(filepath, rename=False):\n",
    "    '''\n",
    "    This function generates through all the images file in the folder\n",
    "    ''' \n",
    "    current_path = filepath \n",
    "    print(current_path)\n",
    "    \n",
    "    global image_counter  \n",
    "    \n",
    "    for foldername in os.listdir(current_path):\n",
    "        folderpath = os.path.join(filepath, foldername)\n",
    "        current_path = folderpath\n",
    "        \n",
    "        if os.path.isdir(folderpath) and not foldername.startswith('.'):\n",
    "            os.chdir(folderpath)\n",
    "            print(folderpath)\n",
    "            \n",
    "            for file in os.listdir(folderpath):\n",
    "                if file.endswith(\".jpg\") or file.endswith(\".png\"): \n",
    "                    with open(os.path.join(folderpath, file), \"rb\") as f:\n",
    "                        image = f.read()\n",
    "                        img = cv2.imread(file)\n",
    "                    \n",
    "                    # check if image can be loaded correctly\n",
    "                    if img is not None:   \n",
    "                        #create new name\n",
    "                        if file.endswith(\".jpg\"):\n",
    "                            new_file_name = f\"{image_counter: 07}_.jpg\"\n",
    "                        \n",
    "                        else:\n",
    "                            new_file_name = f\"{image_counter: 07}_.png\"\n",
    "                        \n",
    "                        os.rename(file, new_file_name)\n",
    "                        \n",
    "                        image_counter += 1\n",
    "                        \n",
    "                        # yield tuple, so later we need to use\n",
    "                        yield (img, os.path.join(folderpath, new_file_name))\n",
    "                        \n",
    "                    else:\n",
    "                        # check path or image format\n",
    "                        print(f\"Error while loading image: {file}\")\n",
    "            \n",
    "            os.chdir('..')"
   ]
  },
  {
   "cell_type": "code",
   "execution_count": 5,
   "id": "0bec96bc",
   "metadata": {},
   "outputs": [],
   "source": [
    "def get_colour_hist(image):\n",
    "    \n",
    "    red_channel = image[:, :, 0]\n",
    "    green_channel = image[:, :, 1]\n",
    "    blue_channel = image[:, :, 2]\n",
    "\n",
    "    # Calculate colour histogram\n",
    "    red_hist = cv2.calcHist([red_channel], [0], None, [30], [0, 256])\n",
    "    green_hist = cv2.calcHist([green_channel], [0], None, [30], [0, 256])\n",
    "    blue_hist = cv2.calcHist([blue_channel], [0], None, [30], [0, 256])\n",
    "\n",
    "    # Normalize the colour histogram value\n",
    "    red_hist = cv2.normalize(red_hist, None, alpha=0, beta=1, norm_type=cv2.NORM_MINMAX)\n",
    "    green_hist = cv2.normalize(green_hist, None, alpha=0, beta=1, norm_type=cv2.NORM_MINMAX)\n",
    "    blue_hist = cv2.normalize(blue_hist, None, alpha=0, beta=1, norm_type=cv2.NORM_MINMAX)\n",
    "\n",
    "    return red_hist, green_hist, blue_hist"
   ]
  },
  {
   "cell_type": "code",
   "execution_count": 10,
   "id": "1c3e8665",
   "metadata": {},
   "outputs": [],
   "source": [
    "filepath = os.path.join(os.getcwd(), \"weather_image_recognition\")\n",
    "gen = reader(filepath)"
   ]
  },
  {
   "cell_type": "code",
   "execution_count": 11,
   "id": "9fe96028",
   "metadata": {},
   "outputs": [],
   "source": [
    "# change to `filepath` for creating the csv there\n",
    "os.chdir(filepath)"
   ]
  },
  {
   "cell_type": "code",
   "execution_count": 28,
   "id": "825204cb",
   "metadata": {
    "scrolled": false
   },
   "outputs": [
    {
     "name": "stderr",
     "output_type": "stream",
     "text": [
      "extracting RGB information from the images: 13it [00:00, 117.84it/s]"
     ]
    },
    {
     "name": "stdout",
     "output_type": "stream",
     "text": [
      "C:\\Users\\Asus\\Desktop\\Project\\ImageRecommender\\weather_image_recognition\n",
      "C:\\Users\\Asus\\Desktop\\Project\\ImageRecommender\\weather_image_recognition\\dew\n"
     ]
    },
    {
     "name": "stderr",
     "output_type": "stream",
     "text": [
      "extracting RGB information from the images: 744it [00:07, 170.36it/s]"
     ]
    },
    {
     "name": "stdout",
     "output_type": "stream",
     "text": [
      "C:\\Users\\Asus\\Desktop\\Project\\ImageRecommender\\weather_image_recognition\\fogsmog\n"
     ]
    },
    {
     "name": "stderr",
     "output_type": "stream",
     "text": [
      "extracting RGB information from the images: 1539it [00:13, 87.55it/s] "
     ]
    },
    {
     "name": "stdout",
     "output_type": "stream",
     "text": [
      "Error while loading image: 4514.jpg\n",
      "C:\\Users\\Asus\\Desktop\\Project\\ImageRecommender\\weather_image_recognition\\frost\n"
     ]
    },
    {
     "name": "stderr",
     "output_type": "stream",
     "text": [
      "extracting RGB information from the images: 2045it [00:21, 98.54it/s] "
     ]
    },
    {
     "name": "stdout",
     "output_type": "stream",
     "text": [
      "C:\\Users\\Asus\\Desktop\\Project\\ImageRecommender\\weather_image_recognition\\glaze\n"
     ]
    },
    {
     "name": "stderr",
     "output_type": "stream",
     "text": [
      "extracting RGB information from the images: 2670it [00:24, 134.55it/s]"
     ]
    },
    {
     "name": "stdout",
     "output_type": "stream",
     "text": [
      "C:\\Users\\Asus\\Desktop\\Project\\ImageRecommender\\weather_image_recognition\\hail\n"
     ]
    },
    {
     "name": "stderr",
     "output_type": "stream",
     "text": [
      "extracting RGB information from the images: 3286it [00:28, 157.02it/s]"
     ]
    },
    {
     "name": "stdout",
     "output_type": "stream",
     "text": [
      "C:\\Users\\Asus\\Desktop\\Project\\ImageRecommender\\weather_image_recognition\\lightning\n"
     ]
    },
    {
     "name": "stderr",
     "output_type": "stream",
     "text": [
      "extracting RGB information from the images: 3642it [00:31, 102.30it/s]"
     ]
    },
    {
     "name": "stdout",
     "output_type": "stream",
     "text": [
      "C:\\Users\\Asus\\Desktop\\Project\\ImageRecommender\\weather_image_recognition\\rain\n"
     ]
    },
    {
     "name": "stderr",
     "output_type": "stream",
     "text": [
      "extracting RGB information from the images: 4180it [00:35, 126.27it/s]"
     ]
    },
    {
     "name": "stdout",
     "output_type": "stream",
     "text": [
      "C:\\Users\\Asus\\Desktop\\Project\\ImageRecommender\\weather_image_recognition\\rainbow\n"
     ]
    },
    {
     "name": "stderr",
     "output_type": "stream",
     "text": [
      "extracting RGB information from the images: 4401it [00:37, 131.02it/s]"
     ]
    },
    {
     "name": "stdout",
     "output_type": "stream",
     "text": [
      "C:\\Users\\Asus\\Desktop\\Project\\ImageRecommender\\weather_image_recognition\\rime\n"
     ]
    },
    {
     "name": "stderr",
     "output_type": "stream",
     "text": [
      "extracting RGB information from the images: 5569it [00:47, 123.35it/s]"
     ]
    },
    {
     "name": "stdout",
     "output_type": "stream",
     "text": [
      "C:\\Users\\Asus\\Desktop\\Project\\ImageRecommender\\weather_image_recognition\\sandstorm\n"
     ]
    },
    {
     "name": "stderr",
     "output_type": "stream",
     "text": [
      "extracting RGB information from the images: 6257it [00:53, 135.88it/s]"
     ]
    },
    {
     "name": "stdout",
     "output_type": "stream",
     "text": [
      "C:\\Users\\Asus\\Desktop\\Project\\ImageRecommender\\weather_image_recognition\\snow\n"
     ]
    },
    {
     "name": "stderr",
     "output_type": "stream",
     "text": [
      "extracting RGB information from the images: 6860it [00:58, 117.24it/s]\n"
     ]
    },
    {
     "name": "stdout",
     "output_type": "stream",
     "text": [
      "Error while loading image: 1187.jpg\n"
     ]
    }
   ],
   "source": [
    "# Counter for unique image names\n",
    "image_counter = 0\n",
    "gen = reader(filepath) # get histogram values\n",
    "\n",
    "master_df = pd.DataFrame()\n",
    "# LOOP OVER ALL IMAGES\n",
    "\n",
    "for image, file_path in tqdm(gen, desc=\"extracting RGB information from the images\"):\n",
    "    file_name = os.path.basename(file_path).replace(\".jpg\", \"\").replace(\".png\", \"\") # extract the filename\n",
    "    rgb_array = get_colour_hist(image)\n",
    "    \n",
    "    # extract and format the color values\n",
    "    red_channel = rgb_array[0]\n",
    "    green_channel = rgb_array[1]\n",
    "    blue_channel = rgb_array[2]\n",
    "   \n",
    "    # merged the list from RGB channel into one list\n",
    "    merged_list = np.concatenate((red_channel, green_channel, blue_channel), axis=1).flatten().tolist()\n",
    "    \n",
    "    # create a DataFrame, tranpose it, add id and merge to master_df\n",
    "    df = pd.DataFrame(merged_list)\n",
    "    df = df.transpose()\n",
    "    df[\"image_id\"] = file_name.replace(' ', '')\n",
    "    df = df.set_index('image_id')\n",
    "    \n",
    "    master_df = pd.concat([master_df, df])\n",
    "    \n",
    "master_df.to_csv('color_histogram.csv')"
   ]
  },
  {
   "cell_type": "markdown",
   "id": "50ab4821",
   "metadata": {},
   "source": [
    "### check csv"
   ]
  },
  {
   "cell_type": "code",
   "execution_count": 29,
   "id": "da7b955d",
   "metadata": {
    "scrolled": false
   },
   "outputs": [
    {
     "data": {
      "text/html": [
       "<div>\n",
       "<style scoped>\n",
       "    .dataframe tbody tr th:only-of-type {\n",
       "        vertical-align: middle;\n",
       "    }\n",
       "\n",
       "    .dataframe tbody tr th {\n",
       "        vertical-align: top;\n",
       "    }\n",
       "\n",
       "    .dataframe thead th {\n",
       "        text-align: right;\n",
       "    }\n",
       "</style>\n",
       "<table border=\"1\" class=\"dataframe\">\n",
       "  <thead>\n",
       "    <tr style=\"text-align: right;\">\n",
       "      <th></th>\n",
       "      <th>0</th>\n",
       "      <th>1</th>\n",
       "      <th>2</th>\n",
       "      <th>3</th>\n",
       "      <th>4</th>\n",
       "      <th>5</th>\n",
       "      <th>6</th>\n",
       "      <th>7</th>\n",
       "      <th>8</th>\n",
       "      <th>9</th>\n",
       "      <th>...</th>\n",
       "      <th>80</th>\n",
       "      <th>81</th>\n",
       "      <th>82</th>\n",
       "      <th>83</th>\n",
       "      <th>84</th>\n",
       "      <th>85</th>\n",
       "      <th>86</th>\n",
       "      <th>87</th>\n",
       "      <th>88</th>\n",
       "      <th>89</th>\n",
       "    </tr>\n",
       "    <tr>\n",
       "      <th>image_id</th>\n",
       "      <th></th>\n",
       "      <th></th>\n",
       "      <th></th>\n",
       "      <th></th>\n",
       "      <th></th>\n",
       "      <th></th>\n",
       "      <th></th>\n",
       "      <th></th>\n",
       "      <th></th>\n",
       "      <th></th>\n",
       "      <th></th>\n",
       "      <th></th>\n",
       "      <th></th>\n",
       "      <th></th>\n",
       "      <th></th>\n",
       "      <th></th>\n",
       "      <th></th>\n",
       "      <th></th>\n",
       "      <th></th>\n",
       "      <th></th>\n",
       "      <th></th>\n",
       "    </tr>\n",
       "  </thead>\n",
       "  <tbody>\n",
       "    <tr>\n",
       "      <th>000000_</th>\n",
       "      <td>1.000000e+00</td>\n",
       "      <td>8.741844e-02</td>\n",
       "      <td>7.034527e-01</td>\n",
       "      <td>0.011057</td>\n",
       "      <td>0.052840</td>\n",
       "      <td>0.601915</td>\n",
       "      <td>0.003207</td>\n",
       "      <td>0.083466</td>\n",
       "      <td>0.649100</td>\n",
       "      <td>0.002313</td>\n",
       "      <td>...</td>\n",
       "      <td>0.000042</td>\n",
       "      <td>0.000013</td>\n",
       "      <td>1.406734e-03</td>\n",
       "      <td>-1.437002e-10</td>\n",
       "      <td>0.000104</td>\n",
       "      <td>5.275069e-11</td>\n",
       "      <td>0.001708</td>\n",
       "      <td>0.001584</td>\n",
       "      <td>0.028443</td>\n",
       "      <td>0.021604</td>\n",
       "    </tr>\n",
       "    <tr>\n",
       "      <th>000001_</th>\n",
       "      <td>-1.455192e-11</td>\n",
       "      <td>-1.637090e-11</td>\n",
       "      <td>-1.045919e-11</td>\n",
       "      <td>0.002393</td>\n",
       "      <td>0.005573</td>\n",
       "      <td>0.001429</td>\n",
       "      <td>0.007051</td>\n",
       "      <td>0.017359</td>\n",
       "      <td>0.005110</td>\n",
       "      <td>0.021533</td>\n",
       "      <td>...</td>\n",
       "      <td>0.406501</td>\n",
       "      <td>0.389849</td>\n",
       "      <td>6.174161e-01</td>\n",
       "      <td>4.125379e-01</td>\n",
       "      <td>0.542714</td>\n",
       "      <td>8.710924e-01</td>\n",
       "      <td>0.555396</td>\n",
       "      <td>1.000000</td>\n",
       "      <td>1.000000</td>\n",
       "      <td>1.000000</td>\n",
       "    </tr>\n",
       "    <tr>\n",
       "      <th>000002_</th>\n",
       "      <td>1.448514e-01</td>\n",
       "      <td>6.331907e-04</td>\n",
       "      <td>1.521892e-02</td>\n",
       "      <td>0.830019</td>\n",
       "      <td>0.188652</td>\n",
       "      <td>0.400394</td>\n",
       "      <td>1.000000</td>\n",
       "      <td>0.317324</td>\n",
       "      <td>1.000000</td>\n",
       "      <td>0.488636</td>\n",
       "      <td>...</td>\n",
       "      <td>0.000183</td>\n",
       "      <td>0.000000</td>\n",
       "      <td>3.637979e-12</td>\n",
       "      <td>1.830213e-04</td>\n",
       "      <td>0.000039</td>\n",
       "      <td>3.637979e-12</td>\n",
       "      <td>0.000070</td>\n",
       "      <td>0.000039</td>\n",
       "      <td>0.000134</td>\n",
       "      <td>0.000000</td>\n",
       "    </tr>\n",
       "    <tr>\n",
       "      <th>000003_</th>\n",
       "      <td>0.000000e+00</td>\n",
       "      <td>6.572029e-05</td>\n",
       "      <td>0.000000e+00</td>\n",
       "      <td>0.004035</td>\n",
       "      <td>0.008215</td>\n",
       "      <td>0.003885</td>\n",
       "      <td>0.026543</td>\n",
       "      <td>0.050210</td>\n",
       "      <td>0.028661</td>\n",
       "      <td>0.162033</td>\n",
       "      <td>...</td>\n",
       "      <td>0.010127</td>\n",
       "      <td>0.007377</td>\n",
       "      <td>2.563091e-03</td>\n",
       "      <td>4.267244e-03</td>\n",
       "      <td>0.002207</td>\n",
       "      <td>1.182965e-03</td>\n",
       "      <td>0.001465</td>\n",
       "      <td>0.001135</td>\n",
       "      <td>0.000000</td>\n",
       "      <td>0.000764</td>\n",
       "    </tr>\n",
       "    <tr>\n",
       "      <th>000004_</th>\n",
       "      <td>1.967518e-03</td>\n",
       "      <td>0.000000e+00</td>\n",
       "      <td>0.000000e+00</td>\n",
       "      <td>0.002468</td>\n",
       "      <td>0.000000</td>\n",
       "      <td>0.000074</td>\n",
       "      <td>0.002504</td>\n",
       "      <td>0.000000</td>\n",
       "      <td>0.000628</td>\n",
       "      <td>0.007691</td>\n",
       "      <td>...</td>\n",
       "      <td>0.003619</td>\n",
       "      <td>0.004865</td>\n",
       "      <td>1.007302e-02</td>\n",
       "      <td>1.403405e-03</td>\n",
       "      <td>0.003470</td>\n",
       "      <td>4.596427e-03</td>\n",
       "      <td>0.001108</td>\n",
       "      <td>0.000000</td>\n",
       "      <td>0.002347</td>\n",
       "      <td>0.000222</td>\n",
       "    </tr>\n",
       "  </tbody>\n",
       "</table>\n",
       "<p>5 rows × 90 columns</p>\n",
       "</div>"
      ],
      "text/plain": [
       "                     0             1             2         3         4  \\\n",
       "image_id                                                                 \n",
       "000000_   1.000000e+00  8.741844e-02  7.034527e-01  0.011057  0.052840   \n",
       "000001_  -1.455192e-11 -1.637090e-11 -1.045919e-11  0.002393  0.005573   \n",
       "000002_   1.448514e-01  6.331907e-04  1.521892e-02  0.830019  0.188652   \n",
       "000003_   0.000000e+00  6.572029e-05  0.000000e+00  0.004035  0.008215   \n",
       "000004_   1.967518e-03  0.000000e+00  0.000000e+00  0.002468  0.000000   \n",
       "\n",
       "                 5         6         7         8         9  ...        80  \\\n",
       "image_id                                                    ...             \n",
       "000000_   0.601915  0.003207  0.083466  0.649100  0.002313  ...  0.000042   \n",
       "000001_   0.001429  0.007051  0.017359  0.005110  0.021533  ...  0.406501   \n",
       "000002_   0.400394  1.000000  0.317324  1.000000  0.488636  ...  0.000183   \n",
       "000003_   0.003885  0.026543  0.050210  0.028661  0.162033  ...  0.010127   \n",
       "000004_   0.000074  0.002504  0.000000  0.000628  0.007691  ...  0.003619   \n",
       "\n",
       "                81            82            83        84            85  \\\n",
       "image_id                                                                 \n",
       "000000_   0.000013  1.406734e-03 -1.437002e-10  0.000104  5.275069e-11   \n",
       "000001_   0.389849  6.174161e-01  4.125379e-01  0.542714  8.710924e-01   \n",
       "000002_   0.000000  3.637979e-12  1.830213e-04  0.000039  3.637979e-12   \n",
       "000003_   0.007377  2.563091e-03  4.267244e-03  0.002207  1.182965e-03   \n",
       "000004_   0.004865  1.007302e-02  1.403405e-03  0.003470  4.596427e-03   \n",
       "\n",
       "                86        87        88        89  \n",
       "image_id                                          \n",
       "000000_   0.001708  0.001584  0.028443  0.021604  \n",
       "000001_   0.555396  1.000000  1.000000  1.000000  \n",
       "000002_   0.000070  0.000039  0.000134  0.000000  \n",
       "000003_   0.001465  0.001135  0.000000  0.000764  \n",
       "000004_   0.001108  0.000000  0.002347  0.000222  \n",
       "\n",
       "[5 rows x 90 columns]"
      ]
     },
     "execution_count": 29,
     "metadata": {},
     "output_type": "execute_result"
    }
   ],
   "source": [
    "data = pd.read_csv('color_histogram.csv', index_col='image_id')\n",
    "data.head()"
   ]
  },
  {
   "cell_type": "code",
   "execution_count": 30,
   "id": "83ec7723",
   "metadata": {
    "scrolled": true
   },
   "outputs": [
    {
     "name": "stdout",
     "output_type": "stream",
     "text": [
      "<class 'pandas.core.frame.DataFrame'>\n",
      "Index: 6860 entries, 000000_ to 006859_\n",
      "Data columns (total 90 columns):\n",
      " #   Column  Non-Null Count  Dtype  \n",
      "---  ------  --------------  -----  \n",
      " 0   0       6860 non-null   float64\n",
      " 1   1       6860 non-null   float64\n",
      " 2   2       6860 non-null   float64\n",
      " 3   3       6860 non-null   float64\n",
      " 4   4       6860 non-null   float64\n",
      " 5   5       6860 non-null   float64\n",
      " 6   6       6860 non-null   float64\n",
      " 7   7       6860 non-null   float64\n",
      " 8   8       6860 non-null   float64\n",
      " 9   9       6860 non-null   float64\n",
      " 10  10      6860 non-null   float64\n",
      " 11  11      6860 non-null   float64\n",
      " 12  12      6860 non-null   float64\n",
      " 13  13      6860 non-null   float64\n",
      " 14  14      6860 non-null   float64\n",
      " 15  15      6860 non-null   float64\n",
      " 16  16      6860 non-null   float64\n",
      " 17  17      6860 non-null   float64\n",
      " 18  18      6860 non-null   float64\n",
      " 19  19      6860 non-null   float64\n",
      " 20  20      6860 non-null   float64\n",
      " 21  21      6860 non-null   float64\n",
      " 22  22      6860 non-null   float64\n",
      " 23  23      6860 non-null   float64\n",
      " 24  24      6860 non-null   float64\n",
      " 25  25      6860 non-null   float64\n",
      " 26  26      6860 non-null   float64\n",
      " 27  27      6860 non-null   float64\n",
      " 28  28      6860 non-null   float64\n",
      " 29  29      6860 non-null   float64\n",
      " 30  30      6860 non-null   float64\n",
      " 31  31      6860 non-null   float64\n",
      " 32  32      6860 non-null   float64\n",
      " 33  33      6860 non-null   float64\n",
      " 34  34      6860 non-null   float64\n",
      " 35  35      6860 non-null   float64\n",
      " 36  36      6860 non-null   float64\n",
      " 37  37      6860 non-null   float64\n",
      " 38  38      6860 non-null   float64\n",
      " 39  39      6860 non-null   float64\n",
      " 40  40      6860 non-null   float64\n",
      " 41  41      6860 non-null   float64\n",
      " 42  42      6860 non-null   float64\n",
      " 43  43      6860 non-null   float64\n",
      " 44  44      6860 non-null   float64\n",
      " 45  45      6860 non-null   float64\n",
      " 46  46      6860 non-null   float64\n",
      " 47  47      6860 non-null   float64\n",
      " 48  48      6860 non-null   float64\n",
      " 49  49      6860 non-null   float64\n",
      " 50  50      6860 non-null   float64\n",
      " 51  51      6860 non-null   float64\n",
      " 52  52      6860 non-null   float64\n",
      " 53  53      6860 non-null   float64\n",
      " 54  54      6860 non-null   float64\n",
      " 55  55      6860 non-null   float64\n",
      " 56  56      6860 non-null   float64\n",
      " 57  57      6860 non-null   float64\n",
      " 58  58      6860 non-null   float64\n",
      " 59  59      6860 non-null   float64\n",
      " 60  60      6860 non-null   float64\n",
      " 61  61      6860 non-null   float64\n",
      " 62  62      6860 non-null   float64\n",
      " 63  63      6860 non-null   float64\n",
      " 64  64      6860 non-null   float64\n",
      " 65  65      6860 non-null   float64\n",
      " 66  66      6860 non-null   float64\n",
      " 67  67      6860 non-null   float64\n",
      " 68  68      6860 non-null   float64\n",
      " 69  69      6860 non-null   float64\n",
      " 70  70      6860 non-null   float64\n",
      " 71  71      6860 non-null   float64\n",
      " 72  72      6860 non-null   float64\n",
      " 73  73      6860 non-null   float64\n",
      " 74  74      6860 non-null   float64\n",
      " 75  75      6860 non-null   float64\n",
      " 76  76      6860 non-null   float64\n",
      " 77  77      6860 non-null   float64\n",
      " 78  78      6860 non-null   float64\n",
      " 79  79      6860 non-null   float64\n",
      " 80  80      6860 non-null   float64\n",
      " 81  81      6860 non-null   float64\n",
      " 82  82      6860 non-null   float64\n",
      " 83  83      6860 non-null   float64\n",
      " 84  84      6860 non-null   float64\n",
      " 85  85      6860 non-null   float64\n",
      " 86  86      6860 non-null   float64\n",
      " 87  87      6860 non-null   float64\n",
      " 88  88      6860 non-null   float64\n",
      " 89  89      6860 non-null   float64\n",
      "dtypes: float64(90)\n",
      "memory usage: 4.8+ MB\n"
     ]
    }
   ],
   "source": [
    "data.info()"
   ]
  },
  {
   "cell_type": "code",
   "execution_count": 31,
   "id": "9bf7bacd",
   "metadata": {},
   "outputs": [
    {
     "data": {
      "text/plain": [
       "Index(['000000_', '000001_', '000002_', '000003_', '000004_', '000005_',\n",
       "       '000006_', '000007_', '000008_', '000009_',\n",
       "       ...\n",
       "       '006850_', '006851_', '006852_', '006853_', '006854_', '006855_',\n",
       "       '006856_', '006857_', '006858_', '006859_'],\n",
       "      dtype='object', name='image_id', length=6860)"
      ]
     },
     "execution_count": 31,
     "metadata": {},
     "output_type": "execute_result"
    }
   ],
   "source": [
    "data.index"
   ]
  },
  {
   "cell_type": "code",
   "execution_count": 32,
   "id": "c9257a03",
   "metadata": {},
   "outputs": [
    {
     "data": {
      "text/plain": [
       "0     1.000000e+00\n",
       "1     8.741844e-02\n",
       "2     7.034527e-01\n",
       "3     1.105717e-02\n",
       "4     5.283959e-02\n",
       "          ...     \n",
       "85    5.275069e-11\n",
       "86    1.708157e-03\n",
       "87    1.584224e-03\n",
       "88    2.844281e-02\n",
       "89    2.160399e-02\n",
       "Name: 000000_, Length: 90, dtype: float64"
      ]
     },
     "execution_count": 32,
     "metadata": {},
     "output_type": "execute_result"
    }
   ],
   "source": [
    "data.loc['000000_']"
   ]
  },
  {
   "cell_type": "code",
   "execution_count": 43,
   "id": "7696dc1f",
   "metadata": {},
   "outputs": [
    {
     "name": "stdout",
     "output_type": "stream",
     "text": [
      "[   0 2677  376  330    8]\n"
     ]
    }
   ],
   "source": [
    "from sklearn.metrics.pairwise import cosine_similarity\n",
    "from scipy.spatial import distance\n",
    "\n",
    "arr_euc = np.array([])\n",
    "for i in range(len(data)):\n",
    "    v1 = np.array(data.iloc[0, ::])\n",
    "    v2 = np.array(data.iloc[i, ::])\n",
    "    arr_euc = np.append(arr_euc, distance.euclidean(v1, v2))\n",
    "\n",
    "sorted_indices_euc = np.argsort(arr_euc)\n",
    "print(sorted_indices_euc[:5])"
   ]
  },
  {
   "cell_type": "code",
   "execution_count": 48,
   "id": "677cc1de",
   "metadata": {},
   "outputs": [
    {
     "name": "stdout",
     "output_type": "stream",
     "text": [
      "[ 676 2677  376  330    0]\n"
     ]
    }
   ],
   "source": [
    "arr_cos = np.array([])\n",
    "\n",
    "for i in range(len(data)):\n",
    "    v1 = np.array(data.iloc[0, ::].values).reshape(1, -1)\n",
    "    v2 = np.array(data.iloc[i, ::].values).reshape(1, -1)\n",
    "    arr_cos = np.append(arr_cos, cosine_similarity(v1, v2))\n",
    "\n",
    "sorted_indices_cos = np.argsort(arr_cos)\n",
    "print(sorted_indices_cos[-5:])"
   ]
  },
  {
   "cell_type": "code",
   "execution_count": null,
   "id": "c6655b21",
   "metadata": {},
   "outputs": [],
   "source": []
  }
 ],
 "metadata": {
  "kernelspec": {
   "display_name": "Python 3 (ipykernel)",
   "language": "python",
   "name": "python3"
  },
  "language_info": {
   "codemirror_mode": {
    "name": "ipython",
    "version": 3
   },
   "file_extension": ".py",
   "mimetype": "text/x-python",
   "name": "python",
   "nbconvert_exporter": "python",
   "pygments_lexer": "ipython3",
   "version": "3.9.16"
  }
 },
 "nbformat": 4,
 "nbformat_minor": 5
}
