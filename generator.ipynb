{
 "cells": [
  {
   "cell_type": "code",
   "execution_count": 1,
   "id": "e3cfd14e",
   "metadata": {},
   "outputs": [],
   "source": [
    "import re\n",
    "import pandas as pd\n",
    "import os\n",
    "import glob\n",
    "import cv2\n",
    "import numpy as np\n",
    "import matplotlib.pyplot as plt\n",
    "from tqdm.notebook import tqdm_notebook"
   ]
  },
  {
   "cell_type": "code",
   "execution_count": 31,
   "id": "88d7ffc5",
   "metadata": {},
   "outputs": [
    {
     "data": {
      "text/plain": [
       "'D:\\\\adham-till-code'"
      ]
     },
     "execution_count": 31,
     "metadata": {},
     "output_type": "execute_result"
    }
   ],
   "source": [
    "#root = os.getcwd()\n",
    "root = r\"D:\\adham-till-code\"\n",
    "root"
   ]
  },
  {
   "cell_type": "code",
   "execution_count": 3,
   "id": "38aa7fe5",
   "metadata": {},
   "outputs": [],
   "source": [
    "def total_images(main_folder):\n",
    "    \"\"\"\n",
    "    This function is used for getting total number of jpg/png files in the main folder\n",
    "    \"\"\"\n",
    "    # Define the pattern to search for .jpg files recursively\n",
    "    file_pattern = main_folder + '/**/*.[jp][pn]g'\n",
    "    \n",
    "    # Use glob to find all matching files\n",
    "    my_list = glob.glob(file_pattern, recursive=True)\n",
    "    \n",
    "    # just return the number of total files\n",
    "    return len(my_list)"
   ]
  },
  {
   "cell_type": "code",
   "execution_count": 4,
   "id": "e8a11d08",
   "metadata": {},
   "outputs": [],
   "source": [
    "# creating the generator\n",
    "def reader(main_folder, image_counter=0):\n",
    "    '''\n",
    "    This function generates through all the images file in the folder\n",
    "    ---\n",
    "    image_counter is the counter for unique images. it is the initial counting point\n",
    "    '''  \n",
    "    print(main_folder)\n",
    "\n",
    "    # Define the pattern to search for .jpg files recursively\n",
    "    file_pattern = main_folder + '/**/*.[jp][pn]g'  \n",
    "    \n",
    "    # Use glob to find all matching files\n",
    "    image_files = glob.glob(file_pattern, recursive=True)\n",
    "\n",
    "    # Process the list of found .jpg files\n",
    "    for path in image_files:\n",
    "        # steps for the file. open with cv2 --> if okay --> yield the id, image array and filepath\n",
    "        img = cv2.imread(path)\n",
    "\n",
    "        # check if image can be loaded correctly\n",
    "        if img is not None:   \n",
    "            #create new name\n",
    "            unique_id = f\"{image_counter:07}_\"\n",
    "\n",
    "            image_counter += 1\n",
    "\n",
    "            # yield tuple, so later we need to use\n",
    "            yield (unique_id, img, path)\n",
    "\n",
    "        else:\n",
    "            # check path or image format\n",
    "            print(f\"Error while loading image: {path}\")"
   ]
  },
  {
   "cell_type": "code",
   "execution_count": 5,
   "id": "0bec96bc",
   "metadata": {},
   "outputs": [],
   "source": [
    "def get_colour_hist(image):\n",
    "    \"\"\"\n",
    "    This function is used to calculate color histogram for image\n",
    "    \"\"\"\n",
    "    red_channel = image[:, :, 0]\n",
    "    green_channel = image[:, :, 1]\n",
    "    blue_channel = image[:, :, 2]\n",
    "\n",
    "    # Calculate colour histogram\n",
    "    red_hist = cv2.calcHist([red_channel], [0], None, [30], [0, 256])\n",
    "    green_hist = cv2.calcHist([green_channel], [0], None, [30], [0, 256])\n",
    "    blue_hist = cv2.calcHist([blue_channel], [0], None, [30], [0, 256])\n",
    "\n",
    "    # Normalize the colour histogram value\n",
    "    red_hist = cv2.normalize(red_hist, None, alpha=0, beta=1, norm_type=cv2.NORM_MINMAX)\n",
    "    green_hist = cv2.normalize(green_hist, None, alpha=0, beta=1, norm_type=cv2.NORM_MINMAX)\n",
    "    blue_hist = cv2.normalize(blue_hist, None, alpha=0, beta=1, norm_type=cv2.NORM_MINMAX)\n",
    "\n",
    "    return red_hist, green_hist, blue_hist"
   ]
  },
  {
   "cell_type": "code",
   "execution_count": 24,
   "id": "d8e2343b",
   "metadata": {
    "scrolled": true
   },
   "outputs": [],
   "source": [
    "def main(filepath, pc=\"windows\", path_file='file_path.pkl', color_file='color_histogram.pkl', counter=0):\n",
    "    \"\"\"\n",
    "    main function for generator\n",
    "    ---\n",
    "    filepath specific where the parent file for images located,\n",
    "    pc is either windows or apple,\n",
    "    path_file and color_file is for desired name of pkl file,\n",
    "    counter is the starting counter for the images\n",
    "    \"\"\"\n",
    "    # Counter for unique image names\n",
    "    gen = reader(filepath, image_counter=counter)\n",
    "\n",
    "    master_df = pd.DataFrame()\n",
    "    # LOOP OVER ALL IMAGES\n",
    "    \n",
    "    check_point = 0\n",
    "    for index, image, file_path in tqdm_notebook(gen, desc=\"extracting RGB information from the images\",\n",
    "                                                total = total_images(filepath)):\n",
    "        # get the color histogram\n",
    "        rgb_array = get_colour_hist(image)\n",
    "\n",
    "        # extract and format the color values\n",
    "        red_channel = rgb_array[0]\n",
    "        green_channel = rgb_array[1]\n",
    "        blue_channel = rgb_array[2]\n",
    "\n",
    "        # merged the list from RGB channel into one list\n",
    "        merged_list = np.concatenate((red_channel, green_channel, blue_channel), axis=1).flatten().tolist()\n",
    "\n",
    "        # create a DataFrame, tranpose it, add id and merge to master_df\n",
    "        df = pd.DataFrame(merged_list)\n",
    "        df = df.transpose()\n",
    "        df[\"image_id\"] = index\n",
    "        if pc == \"windows\":\n",
    "            df[\"file_path\"] = file_path.lstrip(file_path[0:2]) # save the path that are consistent for both macbook and windows\n",
    "        else:\n",
    "            df[\"file_path\"] = file_path\n",
    "        df = df.set_index('image_id')\n",
    "\n",
    "        master_df = pd.concat([master_df, df])\n",
    "        check_point += 1\n",
    "        \n",
    "        # add basic checkpoint\n",
    "        if check_point % 1000 == 0:\n",
    "            # save into draft, so that the saved progress can be processed later\n",
    "            master_df.to_pickle(os.path.join(root, 'draft_df.pkl'))\n",
    "            print(f\"draft file saved after {check_point} checkpoints\")\n",
    "\n",
    "    # split the path from the color historgram\n",
    "    path_df = master_df[[\"file_path\"]]\n",
    "    color_df = master_df.drop(\"file_path\", axis=\"columns\")\n",
    "    \n",
    "    #save as pickle\n",
    "    path_df.to_pickle(os.path.join(root, path_file))\n",
    "    color_df.to_pickle(os.path.join(root,color_file))\n",
    "    \n",
    "    print(\"-------------------------\")\n",
    "    print(\"Notes:\")\n",
    "    if pc == \"windows\":\n",
    "        print(\"path and colour information saved\")\n",
    "    else:\n",
    "        print(\"This path might only works on your pc system. Please consider the changes of path name if you are using another device\")"
   ]
  },
  {
   "cell_type": "code",
   "execution_count": 25,
   "id": "1c3e8665",
   "metadata": {},
   "outputs": [],
   "source": [
    "#filepath = os.path.join(os.getcwd(), \"weather_image_recognition\")\n",
    "#filepath = r\"D:\\images\" # path for image in hard drive\n",
    "filepath = r\"D:\\images\\FFHQ_images\" # extra images"
   ]
  },
  {
   "cell_type": "code",
   "execution_count": null,
   "id": "018cb948",
   "metadata": {
    "scrolled": true
   },
   "outputs": [],
   "source": [
    "if __name__ == \"__main__\":\n",
    "    main(filepath, pc=\"windows\", path_file='file_path_extra.pkl', color_file='color_histogram_extra.pkl', counter=167104)"
   ]
  },
  {
   "cell_type": "code",
   "execution_count": 27,
   "id": "23a6846c",
   "metadata": {},
   "outputs": [],
   "source": [
    "load_checkpoint = pd.read_pickle(os.path.join(root, 'draft_df.pkl'))"
   ]
  },
  {
   "cell_type": "code",
   "execution_count": 32,
   "id": "79d21e48",
   "metadata": {
    "scrolled": false
   },
   "outputs": [
    {
     "data": {
      "text/html": [
       "<div>\n",
       "<style scoped>\n",
       "    .dataframe tbody tr th:only-of-type {\n",
       "        vertical-align: middle;\n",
       "    }\n",
       "\n",
       "    .dataframe tbody tr th {\n",
       "        vertical-align: top;\n",
       "    }\n",
       "\n",
       "    .dataframe thead th {\n",
       "        text-align: right;\n",
       "    }\n",
       "</style>\n",
       "<table border=\"1\" class=\"dataframe\">\n",
       "  <thead>\n",
       "    <tr style=\"text-align: right;\">\n",
       "      <th></th>\n",
       "      <th>file_path</th>\n",
       "    </tr>\n",
       "    <tr>\n",
       "      <th>image_id</th>\n",
       "      <th></th>\n",
       "    </tr>\n",
       "  </thead>\n",
       "  <tbody>\n",
       "    <tr>\n",
       "      <th>0167104_</th>\n",
       "      <td>\\images\\FFHQ_images\\00000\\00000.png</td>\n",
       "    </tr>\n",
       "    <tr>\n",
       "      <th>0167105_</th>\n",
       "      <td>\\images\\FFHQ_images\\00000\\00001.png</td>\n",
       "    </tr>\n",
       "    <tr>\n",
       "      <th>0167106_</th>\n",
       "      <td>\\images\\FFHQ_images\\00000\\00002.png</td>\n",
       "    </tr>\n",
       "    <tr>\n",
       "      <th>0167107_</th>\n",
       "      <td>\\images\\FFHQ_images\\00000\\00003.png</td>\n",
       "    </tr>\n",
       "    <tr>\n",
       "      <th>0167108_</th>\n",
       "      <td>\\images\\FFHQ_images\\00000\\00004.png</td>\n",
       "    </tr>\n",
       "  </tbody>\n",
       "</table>\n",
       "</div>"
      ],
      "text/plain": [
       "                                    file_path\n",
       "image_id                                     \n",
       "0167104_  \\images\\FFHQ_images\\00000\\00000.png\n",
       "0167105_  \\images\\FFHQ_images\\00000\\00001.png\n",
       "0167106_  \\images\\FFHQ_images\\00000\\00002.png\n",
       "0167107_  \\images\\FFHQ_images\\00000\\00003.png\n",
       "0167108_  \\images\\FFHQ_images\\00000\\00004.png"
      ]
     },
     "execution_count": 32,
     "metadata": {},
     "output_type": "execute_result"
    }
   ],
   "source": [
    "new_path_df = pd.read_pickle(os.path.join(root,'file_path_extra.pkl'))\n",
    "new_path_df.head()"
   ]
  },
  {
   "cell_type": "code",
   "execution_count": 34,
   "id": "de397700",
   "metadata": {},
   "outputs": [
    {
     "data": {
      "text/plain": [
       "(46901, 90)"
      ]
     },
     "execution_count": 34,
     "metadata": {},
     "output_type": "execute_result"
    }
   ],
   "source": [
    "color_df = pd.read_pickle(os.path.join(root, 'color_histogram_extra.pkl'))\n",
    "color_df.shape"
   ]
  }
 ],
 "metadata": {
  "kernelspec": {
   "display_name": "Python 3 (ipykernel)",
   "language": "python",
   "name": "python3"
  },
  "language_info": {
   "codemirror_mode": {
    "name": "ipython",
    "version": 3
   },
   "file_extension": ".py",
   "mimetype": "text/x-python",
   "name": "python",
   "nbconvert_exporter": "python",
   "pygments_lexer": "ipython3",
   "version": "3.9.16"
  }
 },
 "nbformat": 4,
 "nbformat_minor": 5
}
