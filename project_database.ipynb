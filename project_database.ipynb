{
 "cells": [
  {
   "cell_type": "code",
   "execution_count": 1,
   "id": "342be1ce",
   "metadata": {},
   "outputs": [],
   "source": [
    "import os\n",
    "import pandas as pd"
   ]
  },
  {
   "cell_type": "code",
   "execution_count": 2,
   "id": "567346af",
   "metadata": {},
   "outputs": [],
   "source": [
    "# project_path = os.getcwd()\n",
    "project_path = r\"D:\\adham-till-code\""
   ]
  },
  {
   "cell_type": "code",
   "execution_count": 6,
   "id": "c6ed0c88",
   "metadata": {},
   "outputs": [],
   "source": [
    "file_path = pd.read_pickle(os.path.join(project_path, 'file_path.pkl'))"
   ]
  },
  {
   "cell_type": "code",
   "execution_count": 7,
   "id": "ef3c7a13",
   "metadata": {
    "scrolled": true
   },
   "outputs": [
    {
     "data": {
      "text/html": [
       "<div>\n",
       "<style scoped>\n",
       "    .dataframe tbody tr th:only-of-type {\n",
       "        vertical-align: middle;\n",
       "    }\n",
       "\n",
       "    .dataframe tbody tr th {\n",
       "        vertical-align: top;\n",
       "    }\n",
       "\n",
       "    .dataframe thead th {\n",
       "        text-align: right;\n",
       "    }\n",
       "</style>\n",
       "<table border=\"1\" class=\"dataframe\">\n",
       "  <thead>\n",
       "    <tr style=\"text-align: right;\">\n",
       "      <th></th>\n",
       "      <th>file_path</th>\n",
       "    </tr>\n",
       "    <tr>\n",
       "      <th>image_id</th>\n",
       "      <th></th>\n",
       "    </tr>\n",
       "  </thead>\n",
       "  <tbody>\n",
       "    <tr>\n",
       "      <th>0000000_</th>\n",
       "      <td>\\images\\coco2017_train\\train2017\\000000147328.jpg</td>\n",
       "    </tr>\n",
       "    <tr>\n",
       "      <th>0000001_</th>\n",
       "      <td>\\images\\coco2017_train\\train2017\\000000414738.jpg</td>\n",
       "    </tr>\n",
       "    <tr>\n",
       "      <th>0000002_</th>\n",
       "      <td>\\images\\coco2017_train\\train2017\\000000281563.jpg</td>\n",
       "    </tr>\n",
       "    <tr>\n",
       "      <th>0000003_</th>\n",
       "      <td>\\images\\coco2017_train\\train2017\\000000063879.jpg</td>\n",
       "    </tr>\n",
       "    <tr>\n",
       "      <th>0000004_</th>\n",
       "      <td>\\images\\coco2017_train\\train2017\\000000531349.jpg</td>\n",
       "    </tr>\n",
       "  </tbody>\n",
       "</table>\n",
       "</div>"
      ],
      "text/plain": [
       "                                                  file_path\n",
       "image_id                                                   \n",
       "0000000_  \\images\\coco2017_train\\train2017\\000000147328.jpg\n",
       "0000001_  \\images\\coco2017_train\\train2017\\000000414738.jpg\n",
       "0000002_  \\images\\coco2017_train\\train2017\\000000281563.jpg\n",
       "0000003_  \\images\\coco2017_train\\train2017\\000000063879.jpg\n",
       "0000004_  \\images\\coco2017_train\\train2017\\000000531349.jpg"
      ]
     },
     "execution_count": 7,
     "metadata": {},
     "output_type": "execute_result"
    }
   ],
   "source": [
    "file_path.head()"
   ]
  },
  {
   "cell_type": "code",
   "execution_count": 9,
   "id": "939f3f18",
   "metadata": {},
   "outputs": [
    {
     "data": {
      "text/html": [
       "<div>\n",
       "<style scoped>\n",
       "    .dataframe tbody tr th:only-of-type {\n",
       "        vertical-align: middle;\n",
       "    }\n",
       "\n",
       "    .dataframe tbody tr th {\n",
       "        vertical-align: top;\n",
       "    }\n",
       "\n",
       "    .dataframe thead th {\n",
       "        text-align: right;\n",
       "    }\n",
       "</style>\n",
       "<table border=\"1\" class=\"dataframe\">\n",
       "  <thead>\n",
       "    <tr style=\"text-align: right;\">\n",
       "      <th></th>\n",
       "      <th>file_path</th>\n",
       "    </tr>\n",
       "    <tr>\n",
       "      <th>image_id</th>\n",
       "      <th></th>\n",
       "    </tr>\n",
       "  </thead>\n",
       "  <tbody>\n",
       "    <tr>\n",
       "      <th>0214000_</th>\n",
       "      <td>\\images\\FFHQ_images\\47000\\47995.png</td>\n",
       "    </tr>\n",
       "    <tr>\n",
       "      <th>0214001_</th>\n",
       "      <td>\\images\\FFHQ_images\\47000\\47996.png</td>\n",
       "    </tr>\n",
       "    <tr>\n",
       "      <th>0214002_</th>\n",
       "      <td>\\images\\FFHQ_images\\47000\\47997.png</td>\n",
       "    </tr>\n",
       "    <tr>\n",
       "      <th>0214003_</th>\n",
       "      <td>\\images\\FFHQ_images\\47000\\47998.png</td>\n",
       "    </tr>\n",
       "    <tr>\n",
       "      <th>0214004_</th>\n",
       "      <td>\\images\\FFHQ_images\\47000\\47999.png</td>\n",
       "    </tr>\n",
       "  </tbody>\n",
       "</table>\n",
       "</div>"
      ],
      "text/plain": [
       "                                    file_path\n",
       "image_id                                     \n",
       "0214000_  \\images\\FFHQ_images\\47000\\47995.png\n",
       "0214001_  \\images\\FFHQ_images\\47000\\47996.png\n",
       "0214002_  \\images\\FFHQ_images\\47000\\47997.png\n",
       "0214003_  \\images\\FFHQ_images\\47000\\47998.png\n",
       "0214004_  \\images\\FFHQ_images\\47000\\47999.png"
      ]
     },
     "execution_count": 9,
     "metadata": {},
     "output_type": "execute_result"
    }
   ],
   "source": [
    "file_path.tail()"
   ]
  },
  {
   "cell_type": "code",
   "execution_count": 8,
   "id": "3e5f9dd2",
   "metadata": {},
   "outputs": [
    {
     "data": {
      "text/plain": [
       "(46901, 1)"
      ]
     },
     "execution_count": 8,
     "metadata": {},
     "output_type": "execute_result"
    }
   ],
   "source": [
    "new_path = pd.read_pickle(os.path.join(project_path, 'file_path_extra.pkl'))\n",
    "new_path.shape"
   ]
  },
  {
   "cell_type": "markdown",
   "id": "896b5c99",
   "metadata": {},
   "source": [
    "## Setup the database"
   ]
  },
  {
   "cell_type": "code",
   "execution_count": 3,
   "id": "59d0884e",
   "metadata": {},
   "outputs": [],
   "source": [
    "import sqlite3\n",
    "\n",
    "folder_path = os.path.join(project_path, \"databases\")\n",
    "# Check if the folder exists\n",
    "if not os.path.exists(folder_path):\n",
    "    # Create the folder if it doesn't exist\n",
    "    os.makedirs(folder_path)\n",
    "    print(f\"The folder '{folder_path}' has been created.\")\n",
    "    \n",
    "# setup a database\n",
    "conn = sqlite3.connect(os.path.join(project_path, \"databases/file_path.db\"))"
   ]
  },
  {
   "cell_type": "code",
   "execution_count": 4,
   "id": "ecba61bd",
   "metadata": {},
   "outputs": [],
   "source": [
    "# setup a cursor object\n",
    "curs = conn.cursor()"
   ]
  },
  {
   "cell_type": "code",
   "execution_count": 38,
   "id": "4a2896b6",
   "metadata": {},
   "outputs": [],
   "source": [
    "conn.rollback()"
   ]
  },
  {
   "cell_type": "code",
   "execution_count": 7,
   "id": "19583503",
   "metadata": {},
   "outputs": [],
   "source": [
    "curs.execute(\n",
    "    \"\"\"CREATE TABLE IF NOT EXISTS image_path\n",
    "       (image_id text UNIQUE,\n",
    "        file_path text UNIQUE)\n",
    "    \"\"\")\n",
    "\n",
    "# If the table is created successfully, commit the changes to the database\n",
    "conn.commit()"
   ]
  },
  {
   "cell_type": "code",
   "execution_count": 39,
   "id": "dde9b7d6",
   "metadata": {},
   "outputs": [],
   "source": [
    "# save it into sql\n",
    "try:\n",
    "    #file_path.to_sql('image_path', conn, if_exists='append', index=True)\n",
    "    new_path.to_sql('image_path', conn, if_exists='append', index=True)\n",
    "    conn.commit()\n",
    "except:\n",
    "    print(\"The id you want to insert existed in the database\")"
   ]
  },
  {
   "cell_type": "code",
   "execution_count": 5,
   "id": "9f3360d2",
   "metadata": {},
   "outputs": [
    {
     "data": {
      "text/plain": [
       "('0214004_', '\\\\images\\\\FFHQ_images\\\\47000\\\\47999.png')"
      ]
     },
     "execution_count": 5,
     "metadata": {},
     "output_type": "execute_result"
    }
   ],
   "source": [
    "curs.execute(\"\"\"SELECT * FROM image_path\"\"\")\n",
    "curs.fetchall()[-1]"
   ]
  },
  {
   "cell_type": "code",
   "execution_count": 40,
   "id": "1b1e13f5",
   "metadata": {},
   "outputs": [
    {
     "data": {
      "text/plain": [
       "214005"
      ]
     },
     "execution_count": 40,
     "metadata": {},
     "output_type": "execute_result"
    }
   ],
   "source": [
    "# check how many entries are there\n",
    "curs.execute(\"\"\"SELECT * FROM image_path\"\"\")\n",
    "len(curs.fetchall())"
   ]
  },
  {
   "cell_type": "code",
   "execution_count": 14,
   "id": "8740a616",
   "metadata": {
    "scrolled": true
   },
   "outputs": [
    {
     "data": {
      "text/plain": [
       "'\\\\images\\\\coco2017_train\\\\train2017\\\\000000147328.jpg'"
      ]
     },
     "execution_count": 14,
     "metadata": {},
     "output_type": "execute_result"
    }
   ],
   "source": [
    "# get only one id\n",
    "curs.execute(\"\"\"SELECT file_path FROM image_path WHERE image_id = '0000000_'\"\"\")\n",
    "curs.fetchone()[0]"
   ]
  },
  {
   "cell_type": "code",
   "execution_count": 15,
   "id": "6fa6db23",
   "metadata": {},
   "outputs": [
    {
     "data": {
      "text/plain": [
       "'\\\\images\\\\coco2017_train\\\\train2017\\\\000000147328.jpg'"
      ]
     },
     "execution_count": 15,
     "metadata": {},
     "output_type": "execute_result"
    }
   ],
   "source": [
    "my_id = '0000000_'\n",
    "curs.execute(f\"SELECT file_path FROM image_path WHERE image_id = '{my_id}'\")\n",
    "curs.fetchone()[0]"
   ]
  },
  {
   "cell_type": "code",
   "execution_count": 41,
   "id": "894ccce0",
   "metadata": {},
   "outputs": [],
   "source": [
    "conn.close()"
   ]
  },
  {
   "cell_type": "markdown",
   "id": "b04662cb",
   "metadata": {},
   "source": [
    "## Check table in the database"
   ]
  },
  {
   "cell_type": "code",
   "execution_count": 14,
   "id": "df21ad3f",
   "metadata": {},
   "outputs": [
    {
     "name": "stdout",
     "output_type": "stream",
     "text": [
      "image_path\n"
     ]
    }
   ],
   "source": [
    "import sqlite3\n",
    "\n",
    "# Create a connection to the SQLite database\n",
    "conn = sqlite3.connect(os.path.join(project_path, \"databases/file_path.db\"))\n",
    "\n",
    "# Create a cursor object to execute SQL statements\n",
    "cursor = conn.cursor()\n",
    "\n",
    "# Query the sqlite_master table to retrieve all table names\n",
    "cursor.execute(\"SELECT name FROM sqlite_master WHERE type='table'\")\n",
    "\n",
    "# Fetch all table names from the query result\n",
    "tables = cursor.fetchall()\n",
    "\n",
    "# Print the table names\n",
    "for table in tables:\n",
    "    print(table[0])\n",
    "\n",
    "# Close the cursor and the database connection\n",
    "cursor.close()\n",
    "conn.close()"
   ]
  },
  {
   "cell_type": "code",
   "execution_count": null,
   "id": "43273847",
   "metadata": {},
   "outputs": [],
   "source": []
  }
 ],
 "metadata": {
  "kernelspec": {
   "display_name": "Python 3 (ipykernel)",
   "language": "python",
   "name": "python3"
  },
  "language_info": {
   "codemirror_mode": {
    "name": "ipython",
    "version": 3
   },
   "file_extension": ".py",
   "mimetype": "text/x-python",
   "name": "python",
   "nbconvert_exporter": "python",
   "pygments_lexer": "ipython3",
   "version": "3.9.16"
  }
 },
 "nbformat": 4,
 "nbformat_minor": 5
}
